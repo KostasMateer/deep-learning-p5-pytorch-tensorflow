{
 "cells": [
  {
   "cell_type": "code",
   "execution_count": null,
   "id": "ad858d46-f774-4515-bb28-fea50362acc6",
   "metadata": {},
   "outputs": [],
   "source": [
    "import torch\n",
    "import numpy as np\n",
    "import matplotlib.pyplot as plt"
   ]
  },
  {
   "cell_type": "markdown",
   "id": "f1935182-bed3-41c2-a8b2-5d663cda4333",
   "metadata": {},
   "source": [
    "KMNIST references:\n",
    "* [GitHub page](https://github.com/rois-codh/kmnist)\n",
    "* [research paper](https://arxiv.org/pdf/1812.01718.pdf)\n",
    "\n",
    "EMNIST references:\n",
    "* [NIST page](https://www.nist.gov/itl/products-and-services/emnist-dataset)\n",
    "* [research paper](https://arxiv.org/pdf/1702.05373v1.pdf)"
   ]
  },
  {
   "cell_type": "code",
   "execution_count": null,
   "id": "e2cbf6fb-a5b8-4244-afe9-ec852ac4d46e",
   "metadata": {},
   "outputs": [],
   "source": [
    "from os import listdir as ls\n",
    "ls(\"/home/DAVIDSON/brwiedenbeck/public\")"
   ]
  },
  {
   "cell_type": "code",
   "execution_count": null,
   "id": "18f0d2bc-7e81-4f98-acc3-4e1e8827eb3b",
   "metadata": {},
   "outputs": [],
   "source": []
  }
 ],
 "metadata": {
  "kernelspec": {
   "display_name": "Torch",
   "language": "python",
   "name": "python3-torch"
  },
  "language_info": {
   "codemirror_mode": {
    "name": "ipython",
    "version": 3
   },
   "file_extension": ".py",
   "mimetype": "text/x-python",
   "name": "python",
   "nbconvert_exporter": "python",
   "pygments_lexer": "ipython3",
   "version": "3.8.6"
  }
 },
 "nbformat": 4,
 "nbformat_minor": 5
}
