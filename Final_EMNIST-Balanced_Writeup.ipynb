{
 "cells": [
  {
   "cell_type": "code",
   "execution_count": 3,
   "id": "62501c0b-0906-4470-a2db-ef388dce180a",
   "metadata": {},
   "outputs": [
    {
     "ename": "NameError",
     "evalue": "name 'model' is not defined",
     "output_type": "error",
     "traceback": [
      "\u001b[0;31m---------------------------------------------------------------------------\u001b[0m",
      "\u001b[0;31mNameError\u001b[0m                                 Traceback (most recent call last)",
      "Input \u001b[0;32mIn [3]\u001b[0m, in \u001b[0;36m<cell line: 1>\u001b[0;34m()\u001b[0m\n\u001b[0;32m----> 1\u001b[0m train_score \u001b[38;5;241m=\u001b[39m \u001b[43mmodel\u001b[49m\u001b[38;5;241m.\u001b[39mevaluate(X_train, y_train, verbose\u001b[38;5;241m=\u001b[39m\u001b[38;5;241m0\u001b[39m)\n\u001b[1;32m      2\u001b[0m test_score \u001b[38;5;241m=\u001b[39m model\u001b[38;5;241m.\u001b[39mevaluate(X_test, y_test, verbose\u001b[38;5;241m=\u001b[39m\u001b[38;5;241m0\u001b[39m)\n\u001b[1;32m      3\u001b[0m \u001b[38;5;28mprint\u001b[39m(\u001b[38;5;124m'\u001b[39m\u001b[38;5;124mTrain loss:\u001b[39m\u001b[38;5;124m'\u001b[39m, train_score[\u001b[38;5;241m0\u001b[39m])\n",
      "\u001b[0;31mNameError\u001b[0m: name 'model' is not defined"
     ]
    }
   ],
   "source": [
    "train_score = model.evaluate(X_train, y_train, verbose=0)\n",
    "test_score = model.evaluate(X_test, y_test, verbose=0)\n",
    "print('Train loss:', train_score[0])\n",
    "print('Train accuracy:', train_score[1])\n",
    "print('Test loss:', test_score[0])\n",
    "print('Test accuracy:', test_score[1])"
   ]
  },
  {
   "cell_type": "code",
   "execution_count": 4,
   "id": "8e9d5f81-e2e1-4752-b563-97ff5e6dbfe0",
   "metadata": {},
   "outputs": [
    {
     "ename": "NameError",
     "evalue": "name 'acc' is not defined",
     "output_type": "error",
     "traceback": [
      "\u001b[0;31m---------------------------------------------------------------------------\u001b[0m",
      "\u001b[0;31mNameError\u001b[0m                                 Traceback (most recent call last)",
      "Input \u001b[0;32mIn [4]\u001b[0m, in \u001b[0;36m<cell line: 3>\u001b[0;34m()\u001b[0m\n\u001b[1;32m      1\u001b[0m \u001b[38;5;28;01mimport\u001b[39;00m \u001b[38;5;21;01mmatplotlib\u001b[39;00m\u001b[38;5;21;01m.\u001b[39;00m\u001b[38;5;21;01mpyplot\u001b[39;00m \u001b[38;5;28;01mas\u001b[39;00m \u001b[38;5;21;01mplt\u001b[39;00m\n\u001b[0;32m----> 3\u001b[0m epochs \u001b[38;5;241m=\u001b[39m \u001b[38;5;28mrange\u001b[39m(\u001b[38;5;241m1\u001b[39m, \u001b[38;5;28mlen\u001b[39m(\u001b[43macc\u001b[49m) \u001b[38;5;241m+\u001b[39m \u001b[38;5;241m1\u001b[39m)\n\u001b[1;32m      5\u001b[0m plt\u001b[38;5;241m.\u001b[39mplot(epochs, acc, \u001b[38;5;124m'\u001b[39m\u001b[38;5;124mbo\u001b[39m\u001b[38;5;124m'\u001b[39m, label\u001b[38;5;241m=\u001b[39m\u001b[38;5;124m'\u001b[39m\u001b[38;5;124mTraining acc\u001b[39m\u001b[38;5;124m'\u001b[39m)\n\u001b[1;32m      6\u001b[0m plt\u001b[38;5;241m.\u001b[39mplot(epochs, val_acc, \u001b[38;5;124m'\u001b[39m\u001b[38;5;124mb\u001b[39m\u001b[38;5;124m'\u001b[39m, label\u001b[38;5;241m=\u001b[39m\u001b[38;5;124m'\u001b[39m\u001b[38;5;124mValidation acc\u001b[39m\u001b[38;5;124m'\u001b[39m)\n",
      "\u001b[0;31mNameError\u001b[0m: name 'acc' is not defined"
     ]
    }
   ],
   "source": [
    "import matplotlib.pyplot as plt\n",
    "\n",
    "epochs = range(1, len(acc) + 1)\n",
    "\n",
    "plt.plot(epochs, acc, 'bo', label='Training acc')\n",
    "plt.plot(epochs, val_acc, 'b', label='Validation acc')\n",
    "plt.title('Training and validation accuracy')\n",
    "plt.legend()\n",
    "\n",
    "plt.figure()\n",
    "\n",
    "plt.plot(epochs, loss, 'bo', label='Training loss')\n",
    "plt.plot(epochs, val_loss, 'b', label='Validation loss')\n",
    "plt.title('Training and validation loss')\n",
    "plt.legend()\n",
    "\n",
    "plt.show()"
   ]
  },
  {
   "cell_type": "markdown",
   "id": "0aa313dd-102c-4a3e-a7f7-5d2b037ad0d1",
   "metadata": {},
   "source": [
    "What we did with this model was to increase the filter size on the convlutional layers because increasing the filters allows for greater feature extraction, and gives the model more opportunities to learn defining features"
   ]
  },
  {
   "cell_type": "markdown",
   "id": "dc1eabbe-27c0-4872-b3ac-4db3790fd7dd",
   "metadata": {},
   "source": [
    "Increasing filter size even more"
   ]
  },
  {
   "cell_type": "code",
   "execution_count": null,
   "id": "bc7dd885-3f49-4494-a26a-d842645c729c",
   "metadata": {},
   "outputs": [],
   "source": [
    "batch_size = 50\n",
    "num_classes = 49\n",
    "epochs = 20\n",
    "\n",
    "y_train = keras.utils.to_categorical(y_train, num_classes)\n",
    "y_test = keras.utils.to_categorical(y_test, num_classes)\n",
    "\n",
    "model = keras.Sequential()\n",
    "model.add(layers.Conv2D(filters=30, kernel_size=(3,3),\n",
    "                        padding=\"same\", activation='relu',\n",
    "                        input_shape=input_size))\n",
    "model.add(layers.Conv2D(filters=60, kernel_size=(5,5), activation='relu',\n",
    "                        input_shape=(28,28,3)))\n",
    "model.add(layers.MaxPooling2D(pool_size=(3,3)))\n",
    "model.add(layers.Conv2D(filters=80, kernel_size=(5,5), activation='relu',\n",
    "                        input_shape=(8,8,1)))\n",
    "model.add(layers.Flatten())\n",
    "model.add(layers.Dense(800, activation='relu'))\n",
    "model.add(layers.Dense(800, activation='relu'))\n",
    "model.add(layers.Dense(200, activation='relu'))\n",
    "model.add(layers.Dense(100, activation='relu'))\n",
    "model.add(layers.Dense(49, activation='softmax'))\n",
    "model.summary()"
   ]
  },
  {
   "cell_type": "code",
   "execution_count": null,
   "id": "611118f5-bc35-4fa5-bbd1-e959005166de",
   "metadata": {},
   "outputs": [],
   "source": [
    "train_score = model.evaluate(X_train, y_train, verbose=0)\n",
    "test_score = model.evaluate(X_test, y_test, verbose=0)\n",
    "print('Train loss:', train_score[0])\n",
    "print('Train accuracy:', train_score[1])\n",
    "print('Test loss:', test_score[0])\n",
    "print('Test accuracy:', test_score[1])"
   ]
  },
  {
   "cell_type": "code",
   "execution_count": null,
   "id": "551f6e7b-f217-4d69-86e3-075b309e04a9",
   "metadata": {},
   "outputs": [],
   "source": [
    "import matplotlib.pyplot as plt\n",
    "\n",
    "epochs = range(1, len(acc) + 1)\n",
    "\n",
    "plt.plot(epochs, acc, 'bo', label='Training acc')\n",
    "plt.plot(epochs, val_acc, 'b', label='Validation acc')\n",
    "plt.title('Training and validation accuracy')\n",
    "plt.legend()\n",
    "\n",
    "plt.figure()\n",
    "\n",
    "plt.plot(epochs, loss, 'bo', label='Training loss')\n",
    "plt.plot(epochs, val_loss, 'b', label='Validation loss')\n",
    "plt.title('Training and validation loss')\n",
    "plt.legend()\n",
    "\n",
    "plt.show()"
   ]
  },
  {
   "cell_type": "markdown",
   "id": "4a124d94-1a91-40e1-98fa-9d9e7574ea12",
   "metadata": {},
   "source": [
    "Will increase epochs next because there is no plateu on the loss yet meaning there is more training available."
   ]
  },
  {
   "cell_type": "code",
   "execution_count": null,
   "id": "8bbb86a9-fe3c-429e-8764-3cd774382e81",
   "metadata": {},
   "outputs": [],
   "source": [
    "batch_size = 50\n",
    "num_classes = 49\n",
    "epochs = 30\n",
    "\n",
    "y_train = keras.utils.to_categorical(y_train, num_classes)\n",
    "y_test = keras.utils.to_categorical(y_test, num_classes)\n",
    "\n",
    "model = keras.Sequential()\n",
    "model.add(layers.Conv2D(filters=30, kernel_size=(3,3),\n",
    "                        padding=\"same\", activation='relu',\n",
    "                        input_shape=input_size))\n",
    "model.add(layers.Conv2D(filters=60, kernel_size=(5,5), activation='relu',\n",
    "                        input_shape=(28,28,3)))\n",
    "model.add(layers.MaxPooling2D(pool_size=(3,3)))\n",
    "model.add(layers.Conv2D(filters=80, kernel_size=(5,5), activation='relu',\n",
    "                        input_shape=(8,8,1)))\n",
    "model.add(layers.Flatten())\n",
    "model.add(layers.Dense(800, activation='relu'))\n",
    "model.add(layers.Dense(800, activation='relu'))\n",
    "model.add(layers.Dense(200, activation='relu'))\n",
    "model.add(layers.Dense(100, activation='relu'))\n",
    "model.add(layers.Dense(49, activation='softmax'))\n",
    "model.summary()"
   ]
  },
  {
   "cell_type": "code",
   "execution_count": null,
   "id": "73385c9b-8e3c-4e54-90f4-941eb4006dbb",
   "metadata": {},
   "outputs": [],
   "source": [
    "train_score = model.evaluate(X_train, y_train, verbose=0)\n",
    "test_score = model.evaluate(X_test, y_test, verbose=0)\n",
    "print('Train loss:', train_score[0])\n",
    "print('Train accuracy:', train_score[1])\n",
    "print('Test loss:', test_score[0])\n",
    "print('Test accuracy:', test_score[1])"
   ]
  },
  {
   "cell_type": "code",
   "execution_count": null,
   "id": "16345a9a-7775-451e-af3e-7be585a1a4bc",
   "metadata": {},
   "outputs": [],
   "source": [
    "import matplotlib.pyplot as plt\n",
    "\n",
    "epochs = range(1, len(acc) + 1)\n",
    "\n",
    "plt.plot(epochs, acc, 'bo', label='Training acc')\n",
    "plt.plot(epochs, val_acc, 'b', label='Validation acc')\n",
    "plt.title('Training and validation accuracy')\n",
    "plt.legend()\n",
    "\n",
    "plt.figure()\n",
    "\n",
    "plt.plot(epochs, loss, 'bo', label='Training loss')\n",
    "plt.plot(epochs, val_loss, 'b', label='Validation loss')\n",
    "plt.title('Training and validation loss')\n",
    "plt.legend()\n",
    "\n",
    "plt.show()"
   ]
  },
  {
   "cell_type": "code",
   "execution_count": null,
   "id": "02ef0481-a554-4cfe-8fec-ca5e5d9c4f4d",
   "metadata": {},
   "outputs": [],
   "source": [
    "batch_size = 25\n",
    "num_classes = 49\n",
    "epochs = 30\n",
    "\n",
    "y_train = keras.utils.to_categorical(y_train, num_classes)\n",
    "y_test = keras.utils.to_categorical(y_test, num_classes)\n",
    "\n",
    "model = keras.Sequential()\n",
    "model.add(layers.Conv2D(filters=30, kernel_size=(3,3),\n",
    "                        padding=\"same\", activation='relu',\n",
    "                        input_shape=input_size))\n",
    "model.add(layers.Conv2D(filters=60, kernel_size=(5,5), activation='relu',\n",
    "                        input_shape=(28,28,3)))\n",
    "model.add(layers.MaxPooling2D(pool_size=(3,3)))\n",
    "model.add(layers.Conv2D(filters=80, kernel_size=(5,5), activation='relu',\n",
    "                        input_shape=(8,8,1)))\n",
    "model.add(layers.Flatten())\n",
    "model.add(layers.Dense(800, activation='relu'))\n",
    "model.add(layers.Dense(800, activation='relu'))\n",
    "model.add(layers.Dense(200, activation='relu'))\n",
    "model.add(layers.Dense(100, activation='relu'))\n",
    "model.add(layers.Dense(49, activation='softmax'))\n",
    "model.summary()"
   ]
  },
  {
   "cell_type": "code",
   "execution_count": null,
   "id": "eb5213e5-0e5f-4006-960b-b0e2bd78bdba",
   "metadata": {},
   "outputs": [],
   "source": [
    "train_score = model.evaluate(X_train, y_train, verbose=0)\n",
    "test_score = model.evaluate(X_test, y_test, verbose=0)\n",
    "print('Train loss:', train_score[0])\n",
    "print('Train accuracy:', train_score[1])\n",
    "print('Test loss:', test_score[0])\n",
    "print('Test accuracy:', test_score[1])"
   ]
  },
  {
   "cell_type": "code",
   "execution_count": null,
   "id": "94cc7570-8522-4483-aad1-796b8969bd14",
   "metadata": {},
   "outputs": [],
   "source": [
    "epochs = range(1, len(acc) + 1)\n",
    "\n",
    "plt.plot(epochs, acc, 'bo', label='Training acc')\n",
    "plt.plot(epochs, val_acc, 'b', label='Validation acc')\n",
    "plt.title('Training and validation accuracy')\n",
    "plt.legend()\n",
    "\n",
    "plt.figure()\n",
    "\n",
    "plt.plot(epochs, loss, 'bo', label='Training loss')\n",
    "plt.plot(epochs, val_loss, 'b', label='Validation loss')\n",
    "plt.title('Training and validation loss')\n",
    "plt.legend()\n",
    "\n",
    "plt.show()"
   ]
  },
  {
   "cell_type": "markdown",
   "id": "de5362a3-45ab-4aaf-b89c-9dc578308f67",
   "metadata": {},
   "source": [
    "Nothing seems to be doing much to increase the accuracy so going to change the model next"
   ]
  },
  {
   "cell_type": "markdown",
   "id": "218b5e5a-8bac-4fd6-9cbd-02ee4bd74f06",
   "metadata": {},
   "source": [
    "**Architecture**"
   ]
  },
  {
   "cell_type": "code",
   "execution_count": null,
   "id": "1b8d7073-97eb-4f4a-8f89-1c0e90a54b48",
   "metadata": {},
   "outputs": [],
   "source": [
    "num_classes = 49\n",
    "\n",
    "y_train = keras.utils.to_categorical(y_train, num_classes)\n",
    "y_test = keras.utils.to_categorical(y_test, num_classes)\n",
    "\n",
    "model1 = keras.Sequential()\n",
    "model1.add(layers.Conv2D(filters=120, kernel_size=(3,3),\n",
    "                        padding=\"same\", activation='relu',\n",
    "                        input_shape=input_shape))\n",
    "model1.add(layers.MaxPooling2D(pool_size=(3, 3)))\n",
    "model1.add(layers.Conv2D(filters=120, kernel_size=(3,3),\n",
    "                        padding=\"same\", activation='relu',\n",
    "                        input_shape=input_shape))\n",
    "model1.add(layers.Flatten())\n",
    "model1.add(layers.Dense(100, activation='relu'))\n",
    "model1.add(layers.Dense(100, activation='relu'))\n",
    "model1.add(layers.Dense(49, activation='softmax'))\n",
    "model1.compile(loss=keras.losses.categorical_crossentropy,\n",
    "              optimizer=keras.optimizers.Adadelta(),\n",
    "              metrics=['accuracy'])\n",
    "history = History()\n",
    "model1.summary()"
   ]
  },
  {
   "cell_type": "markdown",
   "id": "482fd5c1-6fb6-4723-b6c2-42ee53096d2a",
   "metadata": {},
   "source": [
    "Decided on this architecture because wanted to increase the filters immensely. Decided that feature extraction is more important, so created to convulational layers with large filter size. We add a MaxPooling layer in between the two convolutional layers. The reason for this is to reduce the features that are going into the second convolutional layer. We wanted to get better feature detection before the dense layers which will act as feature detectors."
   ]
  },
  {
   "cell_type": "markdown",
   "id": "2d903fa3-09dc-4f96-ab66-3aba828d3ddd",
   "metadata": {
    "tags": []
   },
   "source": [
    "### 20 Epoch Test"
   ]
  },
  {
   "cell_type": "code",
   "execution_count": null,
   "id": "ebc87b73-4f5a-4bdf-8ee4-9624f61a2a62",
   "metadata": {},
   "outputs": [],
   "source": [
    "print('Train loss:', train_score[0])\n",
    "print('Train accuracy:', train_score[1])\n",
    "print('Test loss:', test_score[0])\n",
    "print('Test accuracy:', test_score[1])"
   ]
  },
  {
   "cell_type": "markdown",
   "id": "7803f588-b9fc-4ff2-96ab-6c64d9267e99",
   "metadata": {},
   "source": [
    "The model did much better than other attempts of the more dense networks as previous"
   ]
  },
  {
   "cell_type": "markdown",
   "id": "7c649b78-fbaa-49c9-9070-f399360d9053",
   "metadata": {},
   "source": [
    "Noticed this model was doing well with less epochs so wanted to try increasing epochs by a large amount."
   ]
  },
  {
   "cell_type": "markdown",
   "id": "d06996d2-daa1-406b-886e-c81262efd973",
   "metadata": {
    "tags": []
   },
   "source": [
    "### 100 Epoch Test"
   ]
  },
  {
   "cell_type": "code",
   "execution_count": null,
   "id": "3debcd18-e53c-4f31-bd3e-903b32624831",
   "metadata": {},
   "outputs": [],
   "source": [
    "#100 epoch result\n",
    "print('Train loss:', train_score[0])\n",
    "print('Train accuracy:', train_score[1])\n",
    "print('Test loss:', test_score[0])\n",
    "print('Test accuracy:', test_score[1])"
   ]
  },
  {
   "cell_type": "markdown",
   "id": "bdd69912-2f32-4865-9a44-1c147b509714",
   "metadata": {},
   "source": [
    "100 epochs performed much better than the previous 20 epoch attempt. However, there is some overfitting occurring. Future tests could include experimentation with dropout layers in order to generalize the model."
   ]
  },
  {
   "cell_type": "markdown",
   "id": "7495a460-c69a-4d25-adaa-572ba9fa61b9",
   "metadata": {
    "tags": []
   },
   "source": [
    "# PyTorch Model"
   ]
  },
  {
   "cell_type": "markdown",
   "id": "80f19baa-298f-4c30-b57d-bdf66cc5585d",
   "metadata": {},
   "source": [
    "## Code Review"
   ]
  },
  {
   "cell_type": "markdown",
   "id": "f14d6718-2d9d-418d-bfef-015356e0833f",
   "metadata": {},
   "source": [
    "Code-review with Richard: compared code with Richard discussed different activation functions used \n",
    "and learned about LeakyRelU, brought to his notice the need for a validation set."
   ]
  },
  {
   "cell_type": "markdown",
   "id": "de6d28ef-ba4a-41a2-9cfb-ff73989f13e8",
   "metadata": {
    "tags": []
   },
   "source": [
    "## Preliminary Tests on the EMNIST - Balanced Dataset "
   ]
  },
  {
   "cell_type": "markdown",
   "id": "b09193ab-e847-4afb-a08c-857dea41b1ab",
   "metadata": {
    "tags": []
   },
   "source": [
    "### First Test"
   ]
  },
  {
   "cell_type": "code",
   "execution_count": null,
   "id": "ca93abe1-a5a2-4a75-9a28-f37a0fce68be",
   "metadata": {},
   "outputs": [],
   "source": [
    "class NeuralNetwork(nn.Module):\n",
    "    def __init__(self):\n",
    "        super(NeuralNetwork, self).__init__()\n",
    "        self.flatten = nn.Flatten()\n",
    "        self.linear_relu_stack = nn.Sequential(\n",
    "            nn.Linear(28*28, 512),\n",
    "            nn.ReLU(),\n",
    "            nn.Linear(512, 512),\n",
    "            nn.ReLU(),\n",
    "            nn.Linear(512, 47),\n",
    "        )\n",
    "\n",
    "    def forward(self, x):\n",
    "        x = self.flatten(x)\n",
    "        logits = self.linear_relu_stack(x)\n",
    "        return logits\n",
    "model = NeuralNetwork().to(device)\n",
    "print(model)"
   ]
  },
  {
   "cell_type": "markdown",
   "id": "dec67d10-2403-4110-953b-56daa6829e42",
   "metadata": {},
   "source": [
    "Investigated the classification of the EMNIST - Balanced Dataset. Started with a random archeticture utilized from the pyTorch tutorial and studied the effect of changing different hyperparameters on the accuracy. "
   ]
  },
  {
   "cell_type": "markdown",
   "id": "4225b0e3-8f6c-4c1e-870a-3864c6db19b1",
   "metadata": {},
   "source": [
    "Sample #1\n",
    "\n",
    "Learning rate = 0.1, Batch Size = 10, epochs = 10 "
   ]
  },
  {
   "cell_type": "markdown",
   "id": "ebef2509-570f-410c-a268-b702684288ba",
   "metadata": {},
   "source": [
    "Results: "
   ]
  },
  {
   "cell_type": "code",
   "execution_count": 2,
   "id": "d3456e3d-28d0-4bd6-9747-4ccebaf271fa",
   "metadata": {},
   "outputs": [],
   "source": [
    "import joblib\n",
    "Model1_Train_Loss = joblib.load('model1_train_losses.pkl')\n",
    "Model1_Val_Loss = joblib.load('model1_val_losses.pkl')"
   ]
  },
  {
   "cell_type": "code",
   "execution_count": 5,
   "id": "40b2459e-7466-4ac4-a146-099218525f1d",
   "metadata": {},
   "outputs": [
    {
     "data": {
      "text/plain": [
       "<matplotlib.legend.Legend at 0x15475796e190>"
      ]
     },
     "execution_count": 5,
     "metadata": {},
     "output_type": "execute_result"
    },
    {
     "data": {
      "image/png": "[encoded data removed]",
      "text/plain": [
       "<Figure size 432x288 with 1 Axes>"
      ]
     },
     "metadata": {
      "needs_background": "light"
     },
     "output_type": "display_data"
    }
   ],
   "source": [
    "import matplotlib.pyplot as plt\n",
    "plt.plot(Model1_Train_Loss, label='Training loss')\n",
    "plt.plot(Model1_Val_Loss, label='Validation loss')\n",
    "plt.title('Training and Validation loss Comparison')\n",
    "plt.legend(frameon=False)"
   ]
  },
  {
   "cell_type": "markdown",
   "id": "67e83402-1351-448c-847b-009fa7e58e36",
   "metadata": {},
   "source": [
    "*Decided to manipulate the hyperparameters since the model was generally performing well on the training data yet underfitting when exposed to new data with a test accuracy of 68.3% and a final training accuracy of 84.1% in a small number of epochs.\n",
    "\n",
    "Sample #2\n",
    "\n",
    "Learning rate = 0.01, Batch Size = 5, epochs = 10 "
   ]
  },
  {
   "cell_type": "code",
   "execution_count": null,
   "id": "2cbd0148-48f6-40b0-a9e4-12ee0b6a074d",
   "metadata": {},
   "outputs": [],
   "source": [
    "Model2_Train_Loss = joblib.load('model2_train_losses.pkl')\n",
    "Model2_Val_Loss = joblib.load('model2_val_losses.pkl')"
   ]
  },
  {
   "cell_type": "code",
   "execution_count": null,
   "id": "da21addf-54e7-4288-897c-d43ef61586e3",
   "metadata": {},
   "outputs": [
    {
     "data": {
      "image/png": "[encoded data removed]",
      "text/plain": [
       "<Figure size 432x288 with 1 Axes>"
      ]
     },
     "metadata": {
      "needs_background": "light"
     },
     "output_type": "display_data"
    }
   ],
   "source": [
    "plt.plot(Model2_Train_Loss, label='Training loss')\n",
    "plt.plot(Model2_Val_Loss, label='Validation loss')\n",
    "plt.title('Training and Validation loss Comparison')\n",
    "plt.legend(frameon=False)"
   ]
  },
  {
   "cell_type": "markdown",
   "id": "e5ebe644-1c21-4610-b88b-389a98ea0bc0",
   "metadata": {},
   "source": [
    "After the hyperparameter manipulations the model performed significantly better as it is fitting the training and validation data better. However, there is still room for improvement by model archeticture adjustments while ensuring the model does not fall to an overfitting problem. "
   ]
  },
  {
   "cell_type": "markdown",
   "id": "416b75a8-8ae2-4982-93d0-2d6a0c24f9e1",
   "metadata": {
    "jp-MarkdownHeadingCollapsed": true,
    "tags": []
   },
   "source": [
    "### Second Test"
   ]
  },
  {
   "cell_type": "code",
   "execution_count": null,
   "id": "48efecf8-4465-4791-9d82-2e6ff9e4c2e4",
   "metadata": {},
   "outputs": [],
   "source": [
    "class NeuralNetwork(nn.Module):\n",
    "    def __init__(self):\n",
    "        super().__init__()\n",
    "        self.flatten = nn.Flatten()\n",
    "        self.linear_relu_stack = nn.Sequential(\n",
    "            nn.Linear(28*28, 512),\n",
    "            nn.ReLU(),\n",
    "            nn.Linear(512, 512),\n",
    "            nn.ReLU(),\n",
    "            nn.Linear(512, 512),\n",
    "            nn.Dropout(p=0.2),\n",
    "            nn.Linear(512, 47)    \n",
    "        )\n",
    "\n",
    "    def forward(self, x):\n",
    "        x = self.flatten(x)\n",
    "        logits = self.linear_relu_stack(x)\n",
    "        return logits\n",
    "\n",
    "model = NeuralNetwork().to(device)\n",
    "print(model)"
   ]
  },
  {
   "cell_type": "markdown",
   "id": "028be6d5-12c1-4c1a-b853-4a6902c9bcfd",
   "metadata": {},
   "source": [
    "This architecture is different from the previous as it includes more linear layers to extract more features and a dropout rate to prevent potential overfitting of the model. "
   ]
  },
  {
   "cell_type": "markdown",
   "id": "71d08015-42f7-4869-b376-ed42b0a9b8c1",
   "metadata": {},
   "source": [
    "The model was tested with the same hyperparameters as the first model to compare between performances. "
   ]
  },
  {
   "cell_type": "markdown",
   "id": "ac515590-0ecb-4d3c-96c4-531d6561804c",
   "metadata": {},
   "source": [
    "Learning Rate = 0.01, # of epochs = 10, batch size = 5 "
   ]
  },
  {
   "cell_type": "code",
   "execution_count": 32,
   "id": "0977a6ab-a538-4643-841f-9cd81e19ae7a",
   "metadata": {},
   "outputs": [],
   "source": [
    "Model3_Train_Loss = joblib.load('model3_train_losses.pkl')\n",
    "Model3_Val_Loss = joblib.load('model3_val_losses.pkl')"
   ]
  },
  {
   "cell_type": "code",
   "execution_count": 33,
   "id": "46b57635-b253-4be1-a041-b3185ebb0c28",
   "metadata": {},
   "outputs": [
    {
     "data": {
      "text/plain": [
       "<matplotlib.legend.Legend at 0x147053940fd0>"
      ]
     },
     "execution_count": 33,
     "metadata": {},
     "output_type": "execute_result"
    },
    {
     "data": {
      "image/png": "[encoded data removed]",
      "text/plain": [
       "<Figure size 432x288 with 1 Axes>"
      ]
     },
     "metadata": {
      "needs_background": "light"
     },
     "output_type": "display_data"
    }
   ],
   "source": [
    "plt.plot(Model3_Train_Loss, label='Training loss')\n",
    "plt.plot(Model3_Val_Loss, label='Validation loss')\n",
    "plt.title('Training and Validation loss Comparison')\n",
    "plt.legend(frameon=False)"
   ]
  },
  {
   "cell_type": "markdown",
   "id": "3140415b-94e4-4937-922d-66e0fafe17ef",
   "metadata": {},
   "source": [
    "Test Initial Accuracy:70.0%"
   ]
  },
  {
   "cell_type": "markdown",
   "id": "73e28ab0-677c-44cf-8a3d-9d6e85e43805",
   "metadata": {},
   "source": [
    "Test Final Accuracy:83.6%"
   ]
  },
  {
   "cell_type": "markdown",
   "id": "1fcf2edf-7f8b-4008-922c-d4e6c88a842a",
   "metadata": {},
   "source": [
    "As seen the model loss in the validation dataset is almost equivalent to the loss in the training dataset, this shows a significant increase in the fitting of the model when compared to the first architecture utilized. "
   ]
  },
  {
   "cell_type": "markdown",
   "id": "46879fb0-0b42-409e-bf8b-be151b2eff8e",
   "metadata": {
    "tags": []
   },
   "source": [
    "### Third Test"
   ]
  },
  {
   "cell_type": "code",
   "execution_count": null,
   "id": "1cd37e93-9e1e-42f3-a2c3-84f3ce355df5",
   "metadata": {},
   "outputs": [],
   "source": [
    "class NeuralNetwork(nn.Module):\n",
    "    def __init__(self):\n",
    "        super().__init__()\n",
    "        self.flatten = nn.Flatten()\n",
    "        self.linear_relu_stack = nn.Sequential(\n",
    "            nn.Linear(28*28, 512),\n",
    "            nn.ReLU(),\n",
    "            nn.Linear(512, 512),\n",
    "            nn.ReLU(),\n",
    "            nn.Linear(512, 512),\n",
    "            nn.LeakyReLU(8),\n",
    "            nn.Dropout(p=0.2),\n",
    "            nn.Linear(512, 47)    \n",
    "        )\n",
    "\n",
    "    def forward(self, x):\n",
    "        x = self.flatten(x)\n",
    "        logits = self.linear_relu_stack(x)\n",
    "        return logits\n",
    "\n",
    "model = NeuralNetwork().to(device)\n",
    "print(model)"
   ]
  },
  {
   "cell_type": "markdown",
   "id": "eb2c23b1-e422-4bc2-b0b9-f2fe578089e2",
   "metadata": {},
   "source": [
    "This third architecture that was used included the addition of more activation layers especially the LeakyRelU which was incorpereted for a better performance of the overall model. The benefit of adding more ReLU activation layer is that they converge faster than other activation functions,and helps to avoid a vanishing gradient problem. In addition, the addition of LeakyReLU has the ability of the latter to retain some degree of the negative values that flow into it. "
   ]
  },
  {
   "cell_type": "code",
   "execution_count": null,
   "id": "94554758-6f65-4f57-8c5f-548d93bef043",
   "metadata": {},
   "outputs": [],
   "source": [
    "Sample #1 \n",
    "\n",
    "Learning rate = 0.01, Epochs = 10, Batch size = 5"
   ]
  },
  {
   "cell_type": "code",
   "execution_count": 38,
   "id": "3a3a3028-c1d2-4fa7-9fa7-4b423da8a0b9",
   "metadata": {},
   "outputs": [],
   "source": [
    "Model4_Train_Loss = joblib.load('model4_train_losses.pkl')\n",
    "Model4_Val_Loss = joblib.load('model4_val_losses.pkl')"
   ]
  },
  {
   "cell_type": "code",
   "execution_count": 39,
   "id": "be718be9-dbbe-4e47-a0e1-3f5f36462b8c",
   "metadata": {},
   "outputs": [
    {
     "data": {
      "text/plain": [
       "<matplotlib.legend.Legend at 0x147053958490>"
      ]
     },
     "execution_count": 39,
     "metadata": {},
     "output_type": "execute_result"
    },
    {
     "data": {
      "image/png": "[encoded data removed]",
      "text/plain": [
       "<Figure size 432x288 with 1 Axes>"
      ]
     },
     "metadata": {
      "needs_background": "light"
     },
     "output_type": "display_data"
    }
   ],
   "source": [
    "plt.plot(Model4_Train_Loss, label='Training loss')\n",
    "plt.plot(Model4_Val_Loss, label='Validation loss')\n",
    "plt.title('Training and Validation loss Comparison')\n",
    "plt.legend(frameon=False)"
   ]
  },
  {
   "cell_type": "markdown",
   "id": "499904e1-30ae-4df6-95a3-45ace9d4581d",
   "metadata": {},
   "source": [
    "Test Initial Accuracy:78.7%"
   ]
  },
  {
   "cell_type": "markdown",
   "id": "912af895-e7b7-4b2b-b104-2398c14ae29f",
   "metadata": {},
   "source": [
    "Test Final Accuracy:85.2%"
   ]
  },
  {
   "cell_type": "markdown",
   "id": "7dba7769-9170-4e21-83db-d95f94f9a000",
   "metadata": {},
   "source": [
    "However, with the use of LeakyReLU for performance comes the cost of inconsistencies which can be seen at epoch 6 with a rise in both training and validation loss. The overall test accuracy was higher and the training loss was lower compared to other models. Hence, there is room to experiment with an increase in the number of epochs and decreasing the batch size for hopes of achieving a better classification model. "
   ]
  },
  {
   "cell_type": "markdown",
   "id": "049b5905-fb83-4c17-bae4-540bf1071a83",
   "metadata": {},
   "source": [
    "Sample #2\n",
    "\n",
    "Learning rate = 0.01, Epochs = 20, Batch size = 2"
   ]
  },
  {
   "cell_type": "code",
   "execution_count": 44,
   "id": "618d6c75-c2f9-4453-97b8-f5cde5fc1bbe",
   "metadata": {},
   "outputs": [],
   "source": [
    "Model5_Train_Loss = joblib.load('model5_train_losses.pkl')\n",
    "Model5_Val_Loss = joblib.load('model5_val_losses.pkl')"
   ]
  },
  {
   "cell_type": "code",
   "execution_count": 45,
   "id": "2fa466f7-8ef4-4513-9c0c-a13f870b6f11",
   "metadata": {},
   "outputs": [
    {
     "data": {
      "text/plain": [
       "<matplotlib.legend.Legend at 0x1470538089a0>"
      ]
     },
     "execution_count": 45,
     "metadata": {},
     "output_type": "execute_result"
    },
    {
     "data": {
      "image/png": "[encoded data removed]",
      "text/plain": [
       "<Figure size 432x288 with 1 Axes>"
      ]
     },
     "metadata": {
      "needs_background": "light"
     },
     "output_type": "display_data"
    }
   ],
   "source": [
    "plt.plot(Model5_Train_Loss, label='Training loss')\n",
    "plt.plot(Model5_Val_Loss, label='Validation loss')\n",
    "plt.title('Training and Validation loss Comparison')\n",
    "plt.legend(frameon=False)"
   ]
  },
  {
   "cell_type": "markdown",
   "id": "1da32ab8-024c-4584-a6fd-4f20aea48fe0",
   "metadata": {},
   "source": [
    "The model performed really poorly especially with a larger number of epochs which led to overfitting of the data, with initial saturation of the accuracy and then an evident decline. As a result, in the final model will have an earlier stop with a smaller number of epochs which are used to eliminate overfitting of the model. "
   ]
  },
  {
   "cell_type": "code",
   "execution_count": null,
   "id": "554fc695-2cc2-44f5-85ae-8068bd2fca5e",
   "metadata": {},
   "outputs": [],
   "source": [
    "Test Initial Accuracy:74.9%"
   ]
  },
  {
   "cell_type": "code",
   "execution_count": null,
   "id": "a07fe7ac-0135-455e-b983-3c78e484aa5e",
   "metadata": {},
   "outputs": [],
   "source": [
    "Test Final Accuracy:78.8%"
   ]
  },
  {
   "cell_type": "markdown",
   "id": "05301c25-afd0-4924-8668-b75af4b36ff3",
   "metadata": {
    "tags": []
   },
   "source": [
    "# Final Test"
   ]
  },
  {
   "cell_type": "code",
   "execution_count": null,
   "id": "3eebbc9e-8874-4d73-8841-f659a07cb891",
   "metadata": {},
   "outputs": [],
   "source": [
    "Model #1\n",
    "\n",
    "class NeuralNetwork(nn.Module):\n",
    "    def __init__(self):\n",
    "        super().__init__()\n",
    "        self.flatten = nn.Flatten()\n",
    "        self.linear_relu_stack = nn.Sequential(\n",
    "            nn.Linear(28*28, 512),\n",
    "            nn.ReLU(),\n",
    "            nn.Linear(512, 800),\n",
    "            nn.Linear(800, 800),\n",
    "            nn.Linear(800, 800),\n",
    "            nn.Linear(800, 800),\n",
    "            nn.Linear(800, 512),\n",
    "            nn.Dropout(p=0.2),\n",
    "            nn.Linear(512, 512),\n",
    "            nn.ReLU(),\n",
    "            nn.Linear(512, 512),\n",
    "            nn.Dropout(p=0.2),\n",
    "            nn.Linear(512, 47)\n",
    "        )\n",
    "\n",
    "    def forward(self, x):\n",
    "        x = self.flatten(x)\n",
    "        logits = self.linear_relu_stack(x)\n",
    "        return logits\n",
    "\n",
    "model = NeuralNetwork().to(device)\n",
    "print(model)"
   ]
  },
  {
   "cell_type": "markdown",
   "id": "6605b258-e596-42f2-b9d3-fc9494b14619",
   "metadata": {},
   "source": [
    "After the hyperparameter optimization and addition of more hidden layers, we compared the testing loss to the training loss to evaluate the performance of this model and ensure that it can generalise well on unseen data points. "
   ]
  },
  {
   "cell_type": "markdown",
   "id": "4d44fe7b-269d-4b33-b6f6-8db63bffa7fa",
   "metadata": {},
   "source": [
    "Model #1 \n",
    "\n",
    "Learning rate = 0.01, Epochs = 10, Batch size = 5"
   ]
  },
  {
   "cell_type": "code",
   "execution_count": 10,
   "id": "ddad3139-557b-4c08-8391-16ebb50d8645",
   "metadata": {},
   "outputs": [],
   "source": [
    "Model8_Train_Loss = joblib.load('model8_train_losses.pkl')\n",
    "Model8_Val_Loss = joblib.load('model8_val_losses.pkl')"
   ]
  },
  {
   "cell_type": "code",
   "execution_count": 11,
   "id": "82dfb396-40db-4378-85d6-c145b878876f",
   "metadata": {},
   "outputs": [
    {
     "data": {
      "text/plain": [
       "<matplotlib.legend.Legend at 0x154757796eb0>"
      ]
     },
     "execution_count": 11,
     "metadata": {},
     "output_type": "execute_result"
    },
    {
     "data": {
      "image/png": "[encoded data removed]",
      "text/plain": [
       "<Figure size 432x288 with 1 Axes>"
      ]
     },
     "metadata": {
      "needs_background": "light"
     },
     "output_type": "display_data"
    }
   ],
   "source": [
    "plt.plot(Model8_Train_Loss, label='Training loss')\n",
    "plt.plot(Model8_Val_Loss, label='Validation loss')\n",
    "plt.title('Training and Validation loss Comparison')\n",
    "plt.legend(frameon=False)"
   ]
  },
  {
   "cell_type": "code",
   "execution_count": 35,
   "id": "ed2541f2-d40d-423f-a615-4ccd26f7c987",
   "metadata": {},
   "outputs": [],
   "source": [
    "Model11_Train_Loss = joblib.load('model13_train_losses.pkl')\n",
    "Model11_Val_Loss = joblib.load('model13_val_losses.pkl')"
   ]
  },
  {
   "cell_type": "code",
   "execution_count": 36,
   "id": "63db2b30-de76-4d00-a484-53ff8cec41d0",
   "metadata": {},
   "outputs": [
    {
     "data": {
      "text/plain": [
       "<matplotlib.legend.Legend at 0x15475739dbe0>"
      ]
     },
     "execution_count": 36,
     "metadata": {},
     "output_type": "execute_result"
    },
    {
     "data": {
      "image/png": "[encoded data removed]",
      "text/plain": [
       "<Figure size 432x288 with 1 Axes>"
      ]
     },
     "metadata": {
      "needs_background": "light"
     },
     "output_type": "display_data"
    }
   ],
   "source": [
    "plt.plot(Model11_Train_Loss, label='Training loss')\n",
    "plt.plot(Model11_Val_Loss, label='Testing loss')\n",
    "plt.title('Training and Validation loss Comparison')\n",
    "plt.legend(frameon=False)"
   ]
  },
  {
   "cell_type": "markdown",
   "id": "75d932c7-1c7f-4a27-a099-4ffeea738174",
   "metadata": {},
   "source": [
    "Model #2\n",
    "\n",
    "Attempt to increase hidden layer under the same hyperparameters for better feature extraction, this resulted in severe underfitting and accuracy of 2%. Hence, our final model is the one before this (Model #1). "
   ]
  },
  {
   "cell_type": "code",
   "execution_count": null,
   "id": "14580871-4af1-40f1-96df-40df0c3521f8",
   "metadata": {},
   "outputs": [],
   "source": [
    "class NeuralNetwork(nn.Module):\n",
    "    def __init__(self):\n",
    "        super().__init__()\n",
    "        self.flatten = nn.Flatten()\n",
    "        self.linear_relu_stack = nn.Sequential(\n",
    "            nn.Linear(28*28, 512),\n",
    "            nn.ReLU(),\n",
    "            nn.Linear(512, 800),\n",
    "            nn.Linear(800, 800),\n",
    "            nn.Linear(800, 800),\n",
    "            nn.ReLU(),\n",
    "            nn.Linear(800, 800),\n",
    "            nn.Linear(800, 800),\n",
    "            nn.Linear(800, 1000),\n",
    "            nn.Linear(1000, 800),\n",
    "            nn.Linear(800, 800),\n",
    "            nn.Linear(800, 800),\n",
    "            nn.Linear(800, 800),\n",
    "            nn.Linear(800, 800),\n",
    "            nn.Linear(800, 512),\n",
    "            nn.Dropout(p=0.2),\n",
    "            nn.Linear(512, 512),\n",
    "            nn.ReLU(),\n",
    "            nn.Linear(512, 512),\n",
    "            nn.Dropout(p=0.2),\n",
    "            nn.Linear(512, 47)\n",
    "        )\n",
    "\n",
    "    def forward(self, x):\n",
    "        x = self.flatten(x)\n",
    "        logits = self.linear_relu_stack(x)\n",
    "        return logits\n",
    "\n",
    "model = NeuralNetwork().to(device)\n",
    "print(model)"
   ]
  },
  {
   "cell_type": "code",
   "execution_count": 28,
   "id": "6d0f130c-1f00-4a79-88de-2b17be279263",
   "metadata": {},
   "outputs": [],
   "source": [
    "Model10_Train_Loss = joblib.load('model10_train_losses.pkl')\n",
    "Model10_Val_Loss = joblib.load('model10_val_losses.pkl')"
   ]
  },
  {
   "cell_type": "code",
   "execution_count": 30,
   "id": "9cc95fac-3150-4b38-80a4-d73e436a5d82",
   "metadata": {},
   "outputs": [
    {
     "data": {
      "text/plain": [
       "<matplotlib.legend.Legend at 0x15475738a250>"
      ]
     },
     "execution_count": 30,
     "metadata": {},
     "output_type": "execute_result"
    },
    {
     "data": {
      "image/png": "[encoded data removed]",
      "text/plain": [
       "<Figure size 432x288 with 1 Axes>"
      ]
     },
     "metadata": {
      "needs_background": "light"
     },
     "output_type": "display_data"
    }
   ],
   "source": [
    "plt.plot(Model10_Train_Loss, label='Training loss')\n",
    "plt.plot(Model10_Val_Loss, label='Training loss')\n",
    "plt.title('Training and Validation loss Comparison')\n",
    "plt.legend(frameon=False)"
   ]
  },
  {
   "cell_type": "code",
   "execution_count": 31,
   "id": "3baa0603-7b1a-42b2-b489-1c5e9a03f5ad",
   "metadata": {},
   "outputs": [],
   "source": [
    "Model11_Train_Loss = joblib.load('model11_train_losses.pkl')\n",
    "Model11_Val_Loss = joblib.load('model11_val_losses.pkl')"
   ]
  },
  {
   "cell_type": "code",
   "execution_count": 32,
   "id": "4ffdfa95-5b12-40a8-93d7-dd2a58c05eee",
   "metadata": {},
   "outputs": [
    {
     "data": {
      "text/plain": [
       "<matplotlib.legend.Legend at 0x1547572f9df0>"
      ]
     },
     "execution_count": 32,
     "metadata": {},
     "output_type": "execute_result"
    },
    {
     "data": {
      "image/png": "[encoded data removed]",
      "text/plain": [
       "<Figure size 432x288 with 1 Axes>"
      ]
     },
     "metadata": {
      "needs_background": "light"
     },
     "output_type": "display_data"
    }
   ],
   "source": [
    "plt.plot(Model11_Train_Loss, label='Training loss')\n",
    "plt.plot(Model11_Val_Loss, label='Testing loss')\n",
    "plt.title('Training and Validation loss Comparison')\n",
    "plt.legend(frameon=False)"
   ]
  },
  {
   "cell_type": "markdown",
   "id": "5d04fe3e-1aa7-4b06-b0c5-41726d7855e1",
   "metadata": {
    "tags": []
   },
   "source": [
    "# Conclusions"
   ]
  },
  {
   "cell_type": "markdown",
   "id": "ff29832a-f481-4803-8867-7b3b7a9e59e5",
   "metadata": {},
   "source": [
    "## Pytorch Conclusions"
   ]
  },
  {
   "cell_type": "markdown",
   "id": "a8866173-3856-495c-a4b1-97f10be13aa3",
   "metadata": {},
   "source": [
    "The model was successful at classifying the training and the validation data with a final acuuracy of 85%. The validation data was essentially useful in the tuning of the hyperparameters while preventing any under or over fitting of the model. The limitation in the model lies in its inaccuracy and higher loss when implemented on testing data. We tried to eliminate this by the addition of more layer for better feature extraction and better computational efficiency. Yet, there is still room for improvement especially in the collection of more data or more parameter tuning. "
   ]
  }
 ],
 "metadata": {
  "kernelspec": {
   "display_name": "TensorFlow +GPU",
   "language": "python",
   "name": "python3-tensorflow-gpu"
  },
  "language_info": {
   "codemirror_mode": {
    "name": "ipython",
    "version": 3
   },
   "file_extension": ".py",
   "mimetype": "text/x-python",
   "name": "python",
   "nbconvert_exporter": "python",
   "pygments_lexer": "ipython3",
   "version": "3.8.6"
  }
 },
 "nbformat": 4,
 "nbformat_minor": 5
}
