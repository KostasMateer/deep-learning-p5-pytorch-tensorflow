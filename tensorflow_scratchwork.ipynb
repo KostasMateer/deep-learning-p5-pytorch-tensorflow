{
 "cells": [
  {
   "cell_type": "code",
   "execution_count": null,
   "id": "c572086d-3f23-413e-b80b-f80d94e92500",
   "metadata": {},
   "outputs": [],
   "source": [
    "import tensorflow as tf\n",
    "from tensorflow import keras\n",
    "from tensorflow.keras import layers\n",
    "from keras.layers import Dense, Dropout, Flatten\n",
    "from keras.layers import Conv2D, MaxPooling2D\n",
    "from keras import backend as K\n",
    "import numpy as np\n",
    "import matplotlib.pyplot as plt\n",
    "from keras.callbacks import History\n",
    "import matplotlib.pyplot as plt"
   ]
  },
  {
   "cell_type": "markdown",
   "id": "6f1205f2-c238-42ac-ad7d-3b3b33f50c20",
   "metadata": {},
   "source": [
    "KMNIST references:\n",
    "* [GitHub page](https://github.com/rois-codh/kmnist)\n",
    "* [research paper](https://arxiv.org/pdf/1812.01718.pdf)\n",
    "\n",
    "EMNIST references:\n",
    "* [NIST page](https://www.nist.gov/itl/products-and-services/emnist-dataset)\n",
    "* [research paper](https://arxiv.org/pdf/1702.05373v1.pdf)"
   ]
  },
  {
   "cell_type": "code",
   "execution_count": null,
   "id": "6b946efd-a77c-4b24-805d-f25fffc050ff",
   "metadata": {},
   "outputs": [],
   "source": [
    "from os import listdir as ls\n",
    "ls(\"/home/DAVIDSON/brwiedenbeck/public\")"
   ]
  },
  {
   "cell_type": "code",
   "execution_count": null,
   "id": "4828e59a-77f2-4637-bd97-38865ee4d6d8",
   "metadata": {},
   "outputs": [],
   "source": [
    "ls(\"/home/DAVIDSON/brwiedenbeck/public/kmnist\")"
   ]
  },
  {
   "cell_type": "code",
   "execution_count": null,
   "id": "f3b3d930-e781-4985-94f3-a6f9b3a0a708",
   "metadata": {},
   "outputs": [],
   "source": [
    "def load(f):\n",
    "    return np.load(f)['arr_0']"
   ]
  },
  {
   "cell_type": "code",
   "execution_count": null,
   "id": "3b99b532-4428-43af-8725-769b2331d413",
   "metadata": {},
   "outputs": [],
   "source": [
    "X_train = load('/home/DAVIDSON/brwiedenbeck/public/kmnist/k49-train-imgs.npz')\n",
    "X_test = load('/home/DAVIDSON/brwiedenbeck/public/kmnist/k49-test-imgs.npz')\n",
    "y_train = load('/home/DAVIDSON/brwiedenbeck/public/kmnist/k49-train-labels.npz')\n",
    "y_test = load('/home/DAVIDSON/brwiedenbeck/public/kmnist/k49-test-labels.npz')"
   ]
  },
  {
   "cell_type": "code",
   "execution_count": null,
   "id": "9aa27a43-1c02-43d3-aec4-8c1380e4949d",
   "metadata": {},
   "outputs": [],
   "source": [
    "# input image dimensions\n",
    "img_rows, img_cols = 28, 28"
   ]
  },
  {
   "cell_type": "code",
   "execution_count": null,
   "id": "7b8a82c5-5233-449a-a8a3-d2099419a50c",
   "metadata": {},
   "outputs": [],
   "source": [
    "X_train = X_train.reshape(X_train.shape[0], img_rows, img_cols, 1)\n",
    "X_test = X_test.reshape(X_test.shape[0], img_rows, img_cols, 1)\n",
    "\n",
    "input_shape = (img_rows, img_cols, 1)"
   ]
  },
  {
   "cell_type": "code",
   "execution_count": null,
   "id": "2277dad2-7e75-46a7-a467-ce2a899691df",
   "metadata": {},
   "outputs": [],
   "source": [
    "X_train = X_train.astype('float32')\n",
    "X_test = X_test.astype('float32')\n",
    "X_train /= 255\n",
    "X_test /= 255\n",
    "print('{} train samples, {} test samples'.format(len(X_train), len(X_test)))"
   ]
  },
  {
   "cell_type": "code",
   "execution_count": null,
   "id": "a3360fca-8289-414f-a357-02c554eb9743",
   "metadata": {},
   "outputs": [],
   "source": [
    "batch_size = 25\n",
    "num_classes = 49\n",
    "epochs = 30\n",
    "\n",
    "y_train = keras.utils.to_categorical(y_train, num_classes)\n",
    "y_test = keras.utils.to_categorical(y_test, num_classes)\n",
    "\n",
    "model = keras.Sequential()\n",
    "model.add(layers.Conv2D(filters=120, kernel_size=(3,3),\n",
    "                        padding=\"same\", activation='relu',\n",
    "                        input_shape=input_shape))\n",
    "model.add(layers.MaxPooling2D(pool_size=(3, 3)))\n",
    "model.add(layers.Conv2D(filters=120, kernel_size=(3,3),\n",
    "                        padding=\"same\", activation='relu',\n",
    "                        input_shape=input_shape))\n",
    "model.add(layers.Flatten())\n",
    "model.add(layers.Dense(100, activation='relu'))\n",
    "model.add(layers.Dense(100, activation='relu'))\n",
    "model.add(layers.Dense(49, activation='softmax'))\n",
    "model.summary()"
   ]
  },
  {
   "cell_type": "code",
   "execution_count": null,
   "id": "21e48366-f8a6-4ff3-bf60-8450611d7a73",
   "metadata": {},
   "outputs": [],
   "source": [
    "model.compile(loss=keras.losses.categorical_crossentropy,\n",
    "              optimizer=keras.optimizers.Adadelta(),\n",
    "              metrics=['accuracy'])\n"
   ]
  },
  {
   "cell_type": "code",
   "execution_count": null,
   "id": "6e769bf1-40c9-49a6-926e-0065153ffbe7",
   "metadata": {},
   "outputs": [],
   "source": [
    "history = History()\n",
    "model.fit(X_train, y_train,\n",
    "          batch_size=batch_size,\n",
    "          epochs=epochs,\n",
    "          verbose=1,\n",
    "          validation_split=0.10,\n",
    "          callbacks=[history]\n",
    "         )"
   ]
  },
  {
   "cell_type": "code",
   "execution_count": null,
   "id": "7cd51011-c93e-44e8-b0b0-f55cab2a0b74",
   "metadata": {},
   "outputs": [],
   "source": [
    "model.save('models/tests8')"
   ]
  },
  {
   "cell_type": "code",
   "execution_count": null,
   "id": "acc928c4-ffbc-461b-98bc-3bc962ed25ee",
   "metadata": {},
   "outputs": [],
   "source": [
    "train_score = model.evaluate(X_train, y_train, verbose=0)\n",
    "test_score = model.evaluate(X_test, y_test, verbose=0)\n",
    "print('Train loss:', train_score[0])\n",
    "print('Train accuracy:', train_score[1])\n",
    "print('Test loss:', test_score[0])\n",
    "print('Test accuracy:', test_score[1])"
   ]
  },
  {
   "cell_type": "code",
   "execution_count": null,
   "id": "7a2530bd-a4ea-433e-9115-77f5351b5a07",
   "metadata": {},
   "outputs": [],
   "source": [
    "acc = history.history['accuracy']\n",
    "val_acc = history.history['val_accuracy']\n",
    "loss = history.history['loss']\n",
    "val_loss = history.history['val_loss']"
   ]
  },
  {
   "cell_type": "code",
   "execution_count": null,
   "id": "796feffa-9c94-45d0-b3ba-4b946d7959f4",
   "metadata": {},
   "outputs": [],
   "source": [
    "epochs = range(1, len(acc) + 1)\n",
    "\n",
    "plt.plot(epochs, acc, 'bo', label='Training acc')\n",
    "plt.plot(epochs, val_acc, 'b', label='Validation acc')\n",
    "plt.title('Training and validation accuracy')\n",
    "plt.legend()\n",
    "\n",
    "plt.figure()\n",
    "\n",
    "plt.plot(epochs, loss, 'bo', label='Training loss')\n",
    "plt.plot(epochs, val_loss, 'b', label='Validation loss')\n",
    "plt.title('Training and validation loss')\n",
    "plt.legend()\n",
    "\n",
    "plt.show()"
   ]
  },
  {
   "cell_type": "code",
   "execution_count": null,
   "id": "d2ac38f3-4368-4129-8534-74dcf01c8000",
   "metadata": {},
   "outputs": [],
   "source": []
  },
  {
   "cell_type": "code",
   "execution_count": null,
   "id": "95eb264c-f59c-4b21-9ec2-c328a649967f",
   "metadata": {},
   "outputs": [],
   "source": [
    "y_test[1]"
   ]
  },
  {
   "cell_type": "code",
   "execution_count": null,
   "id": "6c51161d-39aa-4d8c-9cdd-5cc79260f54e",
   "metadata": {},
   "outputs": [],
   "source": [
    "y_test = keras.utils.to_categorical(y_test, num_classes)"
   ]
  },
  {
   "cell_type": "code",
   "execution_count": null,
   "id": "2167681e-5d9c-47a4-ae15-1127622a2fca",
   "metadata": {},
   "outputs": [],
   "source": [
    "y_train[10]"
   ]
  },
  {
   "cell_type": "code",
   "execution_count": null,
   "id": "7dc965c4-8894-42bc-ac59-ea40a3ae2b9d",
   "metadata": {},
   "outputs": [],
   "source": [
    "batch_size = 25\n",
    "num_classes = 49\n",
    "epochs = 30\n",
    "\n",
    "y_train = keras.utils.to_categorical(y_train, num_classes)\n",
    "y_test = keras.utils.to_categorical(y_test, num_classes)\n",
    "\n",
    "model = keras.Sequential()\n",
    "model.add(layers.Conv2D(filters=120, kernel_size=(3,3),\n",
    "                        padding=\"same\", activation='relu',\n",
    "                        input_shape=input_shape))\n",
    "model.add(layers.MaxPooling2D(pool_size=(3, 3)))\n",
    "model.add(layers.Conv2D(filters=120, kernel_size=(3,3),\n",
    "                        padding=\"same\", activation='relu',\n",
    "                        input_shape=input_shape))\n",
    "model.add(layers.Flatten())\n",
    "model.add(layers.Dense(100, activation='relu'))\n",
    "model.add(layers.Dense(100, activation='relu'))\n",
    "model.add(layers.Dense(49, activation='softmax'))\n",
    "model.summary()"
   ]
  },
  {
   "cell_type": "code",
   "execution_count": null,
   "id": "84cfad18-39c5-4b52-af05-8475ba93174c",
   "metadata": {},
   "outputs": [],
   "source": [
    "model.compile(loss=keras.losses.categorical_crossentropy,\n",
    "              optimizer=keras.optimizers.Adadelta(),\n",
    "              metrics=['accuracy'])\n",
    "\n"
   ]
  },
  {
   "cell_type": "code",
   "execution_count": 1,
   "id": "28e08512-bbb7-4763-8579-3c15ebbfaca1",
   "metadata": {},
   "outputs": [],
   "source": [
    "import tensorflow as tf\n",
    "from tensorflow import keras\n",
    "from tensorflow.keras import layers\n",
    "from keras.layers import Dense, Dropout, Flatten\n",
    "from keras.layers import Conv2D, MaxPooling2D\n",
    "from keras import backend as K\n",
    "import numpy as np\n",
    "import matplotlib.pyplot as plt\n",
    "from keras.callbacks import History\n",
    "import matplotlib.pyplot as plt"
   ]
  },
  {
   "cell_type": "code",
   "execution_count": 2,
   "id": "470f698d-689b-42d9-9d2c-e0c5f069f63a",
   "metadata": {},
   "outputs": [],
   "source": [
    "#preproccessing\n",
    "def load(f):\n",
    "    return np.load(f)['arr_0']\n",
    "X_train = load('/home/DAVIDSON/brwiedenbeck/public/kmnist/k49-train-imgs.npz')\n",
    "X_test = load('/home/DAVIDSON/brwiedenbeck/public/kmnist/k49-test-imgs.npz')\n",
    "y_train = load('/home/DAVIDSON/brwiedenbeck/public/kmnist/k49-train-labels.npz')\n",
    "y_test = load('/home/DAVIDSON/brwiedenbeck/public/kmnist/k49-test-labels.npz')\n",
    "img_rows, img_cols = 28, 28\n",
    "X_train = X_train.reshape(X_train.shape[0], img_rows, img_cols, 1)\n",
    "X_test = X_test.reshape(X_test.shape[0], img_rows, img_cols, 1)\n",
    "\n",
    "input_shape = (img_rows, img_cols, 1)"
   ]
  },
  {
   "cell_type": "code",
   "execution_count": 4,
   "id": "9f8fae29-b2f5-4e2d-a54f-375cc75f23aa",
   "metadata": {},
   "outputs": [],
   "source": [
    "num_classes = 49\n",
    "\n",
    "y_train = keras.utils.to_categorical(y_train, num_classes)\n",
    "y_test = keras.utils.to_categorical(y_test, num_classes)\n",
    "\n",
    "model1 = keras.Sequential()\n",
    "model1.add(layers.Conv2D(filters=120, kernel_size=(3,3),\n",
    "                        padding=\"same\", activation='relu',\n",
    "                        input_shape=input_shape))\n",
    "model1.add(layers.MaxPooling2D(pool_size=(3, 3)))\n",
    "model1.add(layers.Conv2D(filters=120, kernel_size=(3,3),\n",
    "                        padding=\"same\", activation='relu',\n",
    "                        input_shape=input_shape))\n",
    "model1.add(layers.Flatten())\n",
    "model1.add(layers.Dense(100, activation='relu'))\n",
    "model1.add(layers.Dense(100, activation='relu'))\n",
    "model1.add(layers.Dense(49, activation='softmax'))\n",
    "model1.compile(loss=keras.losses.categorical_crossentropy,\n",
    "              optimizer=keras.optimizers.Adadelta(),\n",
    "              metrics=['accuracy'])\n",
    "history = History()\n"
   ]
  },
  {
   "cell_type": "code",
   "execution_count": 5,
   "id": "1896c6cd-8db0-4c08-baf4-76a96cb1c549",
   "metadata": {},
   "outputs": [
    {
     "name": "stdout",
     "output_type": "stream",
     "text": [
      "Epoch 1/20\n",
      "8366/8366 [==============================] - 22s 2ms/step - loss: 3.9679 - accuracy: 0.1548 - val_loss: 2.9930 - val_accuracy: 0.2875\n",
      "Epoch 2/20\n",
      "8366/8366 [==============================] - 20s 2ms/step - loss: 2.6498 - accuracy: 0.3648 - val_loss: 2.4094 - val_accuracy: 0.4217\n",
      "Epoch 3/20\n",
      "8366/8366 [==============================] - 20s 2ms/step - loss: 2.1863 - accuracy: 0.4758 - val_loss: 2.0502 - val_accuracy: 0.5098\n",
      "Epoch 4/20\n",
      "8366/8366 [==============================] - 20s 2ms/step - loss: 1.8900 - accuracy: 0.5455 - val_loss: 1.8149 - val_accuracy: 0.5653\n",
      "Epoch 5/20\n",
      "8366/8366 [==============================] - 20s 2ms/step - loss: 1.6815 - accuracy: 0.5942 - val_loss: 1.6341 - val_accuracy: 0.6074\n",
      "Epoch 6/20\n",
      "8366/8366 [==============================] - 20s 2ms/step - loss: 1.5215 - accuracy: 0.6338 - val_loss: 1.4954 - val_accuracy: 0.6401\n",
      "Epoch 7/20\n",
      "8366/8366 [==============================] - 20s 2ms/step - loss: 1.3941 - accuracy: 0.6633 - val_loss: 1.3827 - val_accuracy: 0.6628\n",
      "Epoch 8/20\n",
      "8366/8366 [==============================] - 20s 2ms/step - loss: 1.2906 - accuracy: 0.6877 - val_loss: 1.2890 - val_accuracy: 0.6840\n",
      "Epoch 9/20\n",
      "8366/8366 [==============================] - 20s 2ms/step - loss: 1.2027 - accuracy: 0.7079 - val_loss: 1.2102 - val_accuracy: 0.7036\n",
      "Epoch 10/20\n",
      "8366/8366 [==============================] - 20s 2ms/step - loss: 1.1260 - accuracy: 0.7258 - val_loss: 1.1344 - val_accuracy: 0.7222\n",
      "Epoch 11/20\n",
      "8366/8366 [==============================] - 20s 2ms/step - loss: 1.0592 - accuracy: 0.7413 - val_loss: 1.0735 - val_accuracy: 0.7373\n",
      "Epoch 12/20\n",
      "8366/8366 [==============================] - 20s 2ms/step - loss: 1.0011 - accuracy: 0.7544 - val_loss: 1.0197 - val_accuracy: 0.7499\n",
      "Epoch 13/20\n",
      "8366/8366 [==============================] - 20s 2ms/step - loss: 0.9501 - accuracy: 0.7661 - val_loss: 0.9739 - val_accuracy: 0.7607\n",
      "Epoch 14/20\n",
      "8366/8366 [==============================] - 20s 2ms/step - loss: 0.9051 - accuracy: 0.7770 - val_loss: 0.9329 - val_accuracy: 0.7704\n",
      "Epoch 15/20\n",
      "8366/8366 [==============================] - 20s 2ms/step - loss: 0.8649 - accuracy: 0.7862 - val_loss: 0.8958 - val_accuracy: 0.7780\n",
      "Epoch 16/20\n",
      "8366/8366 [==============================] - 20s 2ms/step - loss: 0.8288 - accuracy: 0.7946 - val_loss: 0.8635 - val_accuracy: 0.7879\n",
      "Epoch 17/20\n",
      "8366/8366 [==============================] - 20s 2ms/step - loss: 0.7969 - accuracy: 0.8022 - val_loss: 0.8323 - val_accuracy: 0.7952\n",
      "Epoch 18/20\n",
      "8366/8366 [==============================] - 20s 2ms/step - loss: 0.7673 - accuracy: 0.8090 - val_loss: 0.8073 - val_accuracy: 0.8005\n",
      "Epoch 19/20\n",
      "8366/8366 [==============================] - 20s 2ms/step - loss: 0.7409 - accuracy: 0.8159 - val_loss: 0.7792 - val_accuracy: 0.8079\n",
      "Epoch 20/20\n",
      "8366/8366 [==============================] - 20s 2ms/step - loss: 0.7161 - accuracy: 0.8210 - val_loss: 0.7572 - val_accuracy: 0.8122\n"
     ]
    }
   ],
   "source": [
    "batch_size = 25\n",
    "epochs = 20\n",
    "model1.fit(X_train, y_train,\n",
    "      batch_size=batch_size,\n",
    "      epochs=epochs,\n",
    "      verbose=1,\n",
    "      validation_split=0.10,\n",
    "      callbacks=[history])\n",
    "\n",
    "train_score = model1.evaluate(X_train, y_train, verbose=0)\n",
    "test_score = model1.evaluate(X_test, y_test, verbose=0)"
   ]
  },
  {
   "cell_type": "code",
   "execution_count": 6,
   "id": "96e74994-3560-45cf-91fd-f9cd10de44c7",
   "metadata": {},
   "outputs": [
    {
     "name": "stdout",
     "output_type": "stream",
     "text": [
      "INFO:tensorflow:Assets written to: models/20epoch/assets\n"
     ]
    }
   ],
   "source": [
    "model1.save(\"models/20epoch\")"
   ]
  },
  {
   "cell_type": "code",
   "execution_count": 7,
   "id": "17ed5eb8-04d2-4b54-9e9b-03ce541b1122",
   "metadata": {},
   "outputs": [
    {
     "name": "stdout",
     "output_type": "stream",
     "text": [
      "Train loss: 0.7051686644554138\n",
      "Train accuracy: 0.8240354657173157\n",
      "Test loss: 1.318656325340271\n",
      "Test accuracy: 0.698887050151825\n"
     ]
    }
   ],
   "source": [
    "print('Train loss:', train_score[0])\n",
    "print('Train accuracy:', train_score[1])\n",
    "print('Test loss:', test_score[0])\n",
    "print('Test accuracy:', test_score[1])"
   ]
  },
  {
   "cell_type": "code",
   "execution_count": 3,
   "id": "1b8d7073-97eb-4f4a-8f89-1c0e90a54b48",
   "metadata": {},
   "outputs": [
    {
     "name": "stdout",
     "output_type": "stream",
     "text": [
      "Model: \"sequential\"\n",
      "_________________________________________________________________\n",
      "Layer (type)                 Output Shape              Param #   \n",
      "=================================================================\n",
      "conv2d (Conv2D)              (None, 28, 28, 120)       1200      \n",
      "_________________________________________________________________\n",
      "max_pooling2d (MaxPooling2D) (None, 9, 9, 120)         0         \n",
      "_________________________________________________________________\n",
      "conv2d_1 (Conv2D)            (None, 9, 9, 120)         129720    \n",
      "_________________________________________________________________\n",
      "flatten (Flatten)            (None, 9720)              0         \n",
      "_________________________________________________________________\n",
      "dense (Dense)                (None, 100)               972100    \n",
      "_________________________________________________________________\n",
      "dense_1 (Dense)              (None, 100)               10100     \n",
      "_________________________________________________________________\n",
      "dense_2 (Dense)              (None, 49)                4949      \n",
      "=================================================================\n",
      "Total params: 1,118,069\n",
      "Trainable params: 1,118,069\n",
      "Non-trainable params: 0\n",
      "_________________________________________________________________\n"
     ]
    }
   ],
   "source": [
    "num_classes = 49\n",
    "\n",
    "y_train = keras.utils.to_categorical(y_train, num_classes)\n",
    "y_test = keras.utils.to_categorical(y_test, num_classes)\n",
    "\n",
    "model1 = keras.Sequential()\n",
    "model1.add(layers.Conv2D(filters=120, kernel_size=(3,3),\n",
    "                        padding=\"same\", activation='relu',\n",
    "                        input_shape=input_shape))\n",
    "model1.add(layers.MaxPooling2D(pool_size=(3, 3)))\n",
    "model1.add(layers.Conv2D(filters=120, kernel_size=(3,3),\n",
    "                        padding=\"same\", activation='relu',\n",
    "                        input_shape=input_shape))\n",
    "model1.add(layers.Flatten())\n",
    "model1.add(layers.Dense(100, activation='relu'))\n",
    "model1.add(layers.Dense(100, activation='relu'))\n",
    "model1.add(layers.Dense(49, activation='softmax'))\n",
    "model1.compile(loss=keras.losses.categorical_crossentropy,\n",
    "              optimizer=keras.optimizers.Adadelta(),\n",
    "              metrics=['accuracy'])\n",
    "history = History()\n",
    "model1.summary()"
   ]
  },
  {
   "cell_type": "code",
   "execution_count": null,
   "id": "4a73c5ae-a63a-4e4a-a24d-0b0608a89f79",
   "metadata": {},
   "outputs": [],
   "source": []
  }
 ],
 "metadata": {
  "kernelspec": {
   "display_name": "TensorFlow +GPU",
   "language": "python",
   "name": "python3-tensorflow-gpu"
  },
  "language_info": {
   "codemirror_mode": {
    "name": "ipython",
    "version": 3
   },
   "file_extension": ".py",
   "mimetype": "text/x-python",
   "name": "python",
   "nbconvert_exporter": "python",
   "pygments_lexer": "ipython3",
   "version": "3.8.6"
  }
 },
 "nbformat": 4,
 "nbformat_minor": 5
}
