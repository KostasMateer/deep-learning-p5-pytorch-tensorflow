{
 "cells": [
  {
   "cell_type": "markdown",
   "id": "4925394b-fccf-4d8d-bde7-06991fd94b7f",
   "metadata": {
    "tags": []
   },
   "source": [
    "# TensorFlow Model"
   ]
  },
  {
   "cell_type": "markdown",
   "id": "5f7dc996-fffa-4fff-a4db-8af4052b4825",
   "metadata": {
    "jp-MarkdownHeadingCollapsed": true,
    "tags": []
   },
   "source": [
    "## Preliminary Tests"
   ]
  },
  {
   "cell_type": "markdown",
   "id": "04b347c6-6ae4-4036-8551-79131340c5e4",
   "metadata": {
    "jp-MarkdownHeadingCollapsed": true,
    "tags": []
   },
   "source": [
    "### First Test"
   ]
  },
  {
   "cell_type": "code",
   "execution_count": null,
   "id": "2d9aae8c-025c-442a-929b-2a7c551e7e75",
   "metadata": {},
   "outputs": [],
   "source": [
    "model = keras.Sequential()\n",
    "model.add(layers.Conv2D(filters=3, kernel_size=(3,3),\n",
    "                        padding=\"same\", activation='relu',\n",
    "                        input_shape=input_size))\n",
    "model.add(layers.Conv2D(filters=1, kernel_size=(5,5), activation='relu',\n",
    "                        input_shape=(28,28,3)))\n",
    "model.add(layers.Conv2D(filters=1, kernel_size=(5,5), activation='relu',\n",
    "                        input_shape=(24,24,1)))\n",
    "model.add(layers.Flatten())\n",
    "model.add(layers.Dense(150, activation='relu'))\n",
    "model.add(layers.Dense(400, activation='relu'))\n",
    "model.add(layers.Dense(49, activation='softmax'))\n",
    "model.summary()"
   ]
  },
  {
   "cell_type": "markdown",
   "id": "1698de67-f824-49cf-b919-8707247561ee",
   "metadata": {},
   "source": [
    "batch_size = 100\n",
    "num_classes = 49\n",
    "epochs = 20\n",
    "\n",
    "Created a random model to start"
   ]
  },
  {
   "cell_type": "code",
   "execution_count": null,
   "id": "40ab744c-2ec1-48b4-820c-81c7278a3028",
   "metadata": {},
   "outputs": [],
   "source": [
    "batch_size = 100\n",
    "num_classes = 49\n",
    "epochs = 20"
   ]
  },
  {
   "cell_type": "code",
   "execution_count": null,
   "id": "ff1d5cc2-ae5a-4d3c-a6b6-155fb75bdcc3",
   "metadata": {},
   "outputs": [],
   "source": [
    "model = keras.Sequential()\n",
    "model.add(layers.Conv2D(filters=3, kernel_size=(3,3),\n",
    "                        padding=\"same\", activation='relu',\n",
    "                        input_shape=input_size))\n",
    "model.add(layers.Conv2D(filters=1, kernel_size=(5,5), activation='relu',\n",
    "                        input_shape=(28,28,3)))\n",
    "model.add(layers.MaxPooling2D(pool_size=(3,3)))\n",
    "model.add(layers.Conv2D(filters=1, kernel_size=(5,5), activation='relu',\n",
    "                        input_shape=(8,8,1)))\n",
    "model.add(layers.Flatten())\n",
    "model.add(layers.Dense(800, activation='relu'))\n",
    "model.add(layers.Dense(800, activation='relu'))\n",
    "model.add(layers.Dense(200, activation='relu'))\n",
    "model.add(layers.Dense(49, activation='softmax'))\n",
    "model.summary()"
   ]
  },
  {
   "cell_type": "markdown",
   "id": "2cbfe0cf-c7e6-45bb-9dde-a475287065c5",
   "metadata": {},
   "source": [
    "`graphs`"
   ]
  },
  {
   "cell_type": "code",
   "execution_count": 24,
   "id": "796feffa-9c94-45d0-b3ba-4b946d7959f4",
   "metadata": {},
   "outputs": [
    {
     "data": {
      "image/png": "[encoded data removed]",
      "text/plain": [
       "<Figure size 432x288 with 1 Axes>"
      ]
     },
     "metadata": {
      "needs_background": "light"
     },
     "output_type": "display_data"
    },
    {
     "data": {
      "image/png": "[encoded data removed]",
      "text/plain": [
       "<Figure size 432x288 with 1 Axes>"
      ]
     },
     "metadata": {
      "needs_background": "light"
     },
     "output_type": "display_data"
    }
   ],
   "source": [
    "import matplotlib.pyplot as plt\n",
    "\n",
    "epochs = range(1, len(acc) + 1)\n",
    "\n",
    "plt.plot(epochs, acc, 'bo', label='Training acc')\n",
    "plt.plot(epochs, val_acc, 'b', label='Validation acc')\n",
    "plt.title('Training and validation accuracy')\n",
    "plt.legend()\n",
    "\n",
    "plt.figure()\n",
    "\n",
    "plt.plot(epochs, loss, 'bo', label='Training loss')\n",
    "plt.plot(epochs, val_loss, 'b', label='Validation loss')\n",
    "plt.title('Training and validation loss')\n",
    "plt.legend()\n",
    "\n",
    "plt.show()"
   ]
  },
  {
   "cell_type": "markdown",
   "id": "2cc84d8d-2602-432e-b5da-689ad80e697a",
   "metadata": {},
   "source": [
    "Next test going to increase epochs and lower batch (more steps).\n",
    "\n",
    "The reason for this is because there is no straightening out of the validation and training losses yet, so\n",
    "there is muchroom for improvement in the model"
   ]
  },
  {
   "cell_type": "markdown",
   "id": "bd13cfbf-3932-4584-8281-d801572088ae",
   "metadata": {
    "jp-MarkdownHeadingCollapsed": true,
    "tags": []
   },
   "source": [
    "### Second Test"
   ]
  },
  {
   "cell_type": "code",
   "execution_count": null,
   "id": "e374c534-f147-4452-bee4-0744976787a6",
   "metadata": {},
   "outputs": [],
   "source": [
    "# Model: \"sequential\"\n",
    "# _________________________________________________________________\n",
    "# Layer (type)                 Output Shape              Param #   \n",
    "\n",
    "# conv2d (Conv2D)              (None, 28, 28, 3)         30        \n",
    "# _________________________________________________________________\n",
    "# conv2d_1 (Conv2D)            (None, 24, 24, 1)         76        \n",
    "# _________________________________________________________________\n",
    "# max_pooling2d (MaxPooling2D) (None, 8, 8, 1)           0         \n",
    "# _________________________________________________________________\n",
    "# conv2d_2 (Conv2D)            (None, 4, 4, 1)           26        \n",
    "# _________________________________________________________________\n",
    "# flatten (Flatten)            (None, 16)                0         \n",
    "# _________________________________________________________________\n",
    "# dense (Dense)                (None, 800)               13600     \n",
    "# _________________________________________________________________\n",
    "# dense_1 (Dense)              (None, 800)               640800    \n",
    "# _________________________________________________________________\n",
    "# dense_2 (Dense)              (None, 200)               160200    \n",
    "# _________________________________________________________________\n",
    "# dense_3 (Dense)              (None, 49)                9849      \n",
    "\n",
    "# Total params: 824,581\n",
    "# Trainable params: 824,581\n",
    "# Non-trainable params: 0\n",
    "# _____________________________________"
   ]
  },
  {
   "cell_type": "code",
   "execution_count": 6,
   "id": "e6aabb70-0a08-4211-8610-666911e46cfd",
   "metadata": {},
   "outputs": [],
   "source": [
    "batch_size = 50\n",
    "num_classes = 49\n",
    "epochs = 30\n",
    "\n",
    "# input image dimensions\n",
    "img_rows, img_cols = 28, 28"
   ]
  },
  {
   "cell_type": "code",
   "execution_count": 16,
   "id": "4e3da547-ad2b-4525-8fae-803dcf20d67b",
   "metadata": {},
   "outputs": [
    {
     "data": {
      "image/png": "[encoded data removed]",
      "text/plain": [
       "<Figure size 432x288 with 1 Axes>"
      ]
     },
     "metadata": {
      "needs_background": "light"
     },
     "output_type": "display_data"
    },
    {
     "data": {
      "image/png": "[encoded data removed]",
      "text/plain": [
       "<Figure size 432x288 with 1 Axes>"
      ]
     },
     "metadata": {
      "needs_background": "light"
     },
     "output_type": "display_data"
    }
   ],
   "source": [
    "import matplotlib.pyplot as plt\n",
    "\n",
    "epochs = range(1, len(acc) + 1)\n",
    "\n",
    "plt.plot(epochs, acc, 'bo', label='Training acc')\n",
    "plt.plot(epochs, val_acc, 'b', label='Validation acc')\n",
    "plt.title('Training and validation accuracy')\n",
    "plt.legend()\n",
    "\n",
    "plt.figure()\n",
    "\n",
    "plt.plot(epochs, loss, 'bo', label='Training loss')\n",
    "plt.plot(epochs, val_loss, 'b', label='Validation loss')\n",
    "plt.title('Training and validation loss')\n",
    "plt.legend()\n",
    "\n",
    "plt.show()"
   ]
  },
  {
   "cell_type": "code",
   "execution_count": 14,
   "id": "a0679143-bd57-43da-9f9c-99a8db52a85b",
   "metadata": {},
   "outputs": [
    {
     "name": "stdout",
     "output_type": "stream",
     "text": [
      "Train loss: 2.1686060428619385\n",
      "Train accuracy: 0.4342779815196991\n",
      "Test loss: 2.5938754081726074\n",
      "Test accuracy: 0.3409084975719452\n"
     ]
    }
   ],
   "source": [
    "train_score = model.evaluate(X_train, y_train, verbose=0)\n",
    "test_score = model.evaluate(X_test, y_test, verbose=0)\n",
    "print('Train loss:', train_score[0])\n",
    "print('Train accuracy:', train_score[1])\n",
    "print('Test loss:', test_score[0])\n",
    "print('Test accuracy:', test_score[1])"
   ]
  },
  {
   "cell_type": "markdown",
   "id": "c9246bd1-5b3c-43b3-8fa9-6fdad6812560",
   "metadata": {},
   "source": [
    "Lowering the batch size and increasing the epochs did not do much to the accuracy."
   ]
  },
  {
   "cell_type": "markdown",
   "id": "2bcf7978-a654-47fd-80ac-d55202ee278f",
   "metadata": {
    "jp-MarkdownHeadingCollapsed": true,
    "tags": []
   },
   "source": [
    "### Third Test"
   ]
  },
  {
   "cell_type": "code",
   "execution_count": 10,
   "id": "05b1a153-fc75-4bd0-8219-1c2f6e2ac794",
   "metadata": {},
   "outputs": [
    {
     "name": "stdout",
     "output_type": "stream",
     "text": [
      "Model: \"sequential\"\n",
      "_________________________________________________________________\n",
      "Layer (type)                 Output Shape              Param #   \n",
      "=================================================================\n",
      "conv2d (Conv2D)              (None, 28, 28, 30)        300       \n",
      "_________________________________________________________________\n",
      "conv2d_1 (Conv2D)            (None, 24, 24, 30)        22530     \n",
      "_________________________________________________________________\n",
      "max_pooling2d (MaxPooling2D) (None, 8, 8, 30)          0         \n",
      "_________________________________________________________________\n",
      "conv2d_2 (Conv2D)            (None, 4, 4, 30)          22530     \n",
      "_________________________________________________________________\n",
      "flatten (Flatten)            (None, 480)               0         \n",
      "_________________________________________________________________\n",
      "dense (Dense)                (None, 800)               384800    \n",
      "_________________________________________________________________\n",
      "dense_1 (Dense)              (None, 800)               640800    \n",
      "_________________________________________________________________\n",
      "dense_2 (Dense)              (None, 200)               160200    \n",
      "_________________________________________________________________\n",
      "dense_3 (Dense)              (None, 49)                9849      \n",
      "=================================================================\n",
      "Total params: 1,241,009\n",
      "Trainable params: 1,241,009\n",
      "Non-trainable params: 0\n",
      "_________________________________________________________________\n"
     ]
    },
    {
     "name": "stderr",
     "output_type": "stream",
     "text": [
      "2022-10-26 14:58:18.525885: I tensorflow/stream_executor/platform/default/dso_loader.cc:53] Successfully opened dynamic library libcuda.so.1\n",
      "2022-10-26 14:58:18.546372: I tensorflow/core/common_runtime/gpu/gpu_device.cc:1733] Found device 0 with properties: \n",
      "pciBusID: 0000:3d:00.0 name: Quadro RTX 5000 computeCapability: 7.5\n",
      "coreClock: 1.815GHz coreCount: 48 deviceMemorySize: 14.75GiB deviceMemoryBandwidth: 417.29GiB/s\n",
      "2022-10-26 14:58:18.546398: I tensorflow/stream_executor/platform/default/dso_loader.cc:53] Successfully opened dynamic library libcudart.so.11.0\n",
      "2022-10-26 14:58:18.548966: I tensorflow/stream_executor/platform/default/dso_loader.cc:53] Successfully opened dynamic library libcublas.so.11\n",
      "2022-10-26 14:58:18.549020: I tensorflow/stream_executor/platform/default/dso_loader.cc:53] Successfully opened dynamic library libcublasLt.so.11\n",
      "2022-10-26 14:58:18.549955: I tensorflow/stream_executor/platform/default/dso_loader.cc:53] Successfully opened dynamic library libcufft.so.10\n",
      "2022-10-26 14:58:18.550272: I tensorflow/stream_executor/platform/default/dso_loader.cc:53] Successfully opened dynamic library libcurand.so.10\n",
      "2022-10-26 14:58:18.552879: I tensorflow/stream_executor/platform/default/dso_loader.cc:53] Successfully opened dynamic library libcusolver.so.11\n",
      "2022-10-26 14:58:18.553609: I tensorflow/stream_executor/platform/default/dso_loader.cc:53] Successfully opened dynamic library libcusparse.so.11\n",
      "2022-10-26 14:58:18.553780: I tensorflow/stream_executor/platform/default/dso_loader.cc:53] Successfully opened dynamic library libcudnn.so.8\n",
      "2022-10-26 14:58:18.554562: I tensorflow/core/common_runtime/gpu/gpu_device.cc:1871] Adding visible gpu devices: 0\n",
      "2022-10-26 14:58:18.555846: I tensorflow/core/common_runtime/gpu/gpu_device.cc:1733] Found device 0 with properties: \n",
      "pciBusID: 0000:3d:00.0 name: Quadro RTX 5000 computeCapability: 7.5\n",
      "coreClock: 1.815GHz coreCount: 48 deviceMemorySize: 14.75GiB deviceMemoryBandwidth: 417.29GiB/s\n",
      "2022-10-26 14:58:18.556537: I tensorflow/core/common_runtime/gpu/gpu_device.cc:1871] Adding visible gpu devices: 0\n",
      "2022-10-26 14:58:18.556561: I tensorflow/stream_executor/platform/default/dso_loader.cc:53] Successfully opened dynamic library libcudart.so.11.0\n",
      "2022-10-26 14:58:18.982338: I tensorflow/core/common_runtime/gpu/gpu_device.cc:1258] Device interconnect StreamExecutor with strength 1 edge matrix:\n",
      "2022-10-26 14:58:18.982363: I tensorflow/core/common_runtime/gpu/gpu_device.cc:1264]      0 \n",
      "2022-10-26 14:58:18.982367: I tensorflow/core/common_runtime/gpu/gpu_device.cc:1277] 0:   N \n",
      "2022-10-26 14:58:18.983561: W tensorflow/core/common_runtime/gpu/gpu_bfc_allocator.cc:39] Overriding allow_growth setting because the TF_FORCE_GPU_ALLOW_GROWTH environment variable is set. Original config value was 0.\n",
      "2022-10-26 14:58:18.983586: I tensorflow/core/common_runtime/gpu/gpu_device.cc:1418] Created TensorFlow device (/job:localhost/replica:0/task:0/device:GPU:0 with 13005 MB memory) -> physical GPU (device: 0, name: Quadro RTX 5000, pci bus id: 0000:3d:00.0, compute capability: 7.5)\n"
     ]
    }
   ],
   "source": [
    "batch_size = 50\n",
    "num_classes = 49\n",
    "epochs = 20\n",
    "\n",
    "model = keras.Sequential()\n",
    "model.add(layers.Conv2D(filters=30, kernel_size=(3,3),\n",
    "                        padding=\"same\", activation='relu',\n",
    "                        input_shape=input_size))\n",
    "model.add(layers.Conv2D(filters=30, kernel_size=(5,5), activation='relu',\n",
    "                        input_shape=(28,28,3)))\n",
    "model.add(layers.MaxPooling2D(pool_size=(3,3)))\n",
    "model.add(layers.Conv2D(filters=30, kernel_size=(5,5), activation='relu',\n",
    "                        input_shape=(8,8,1)))\n",
    "model.add(layers.Flatten())\n",
    "model.add(layers.Dense(800, activation='relu'))\n",
    "model.add(layers.Dense(800, activation='relu'))\n",
    "model.add(layers.Dense(200, activation='relu'))\n",
    "model.add(layers.Dense(49, activation='softmax'))\n",
    "model.summary()"
   ]
  },
  {
   "cell_type": "code",
   "execution_count": 15,
   "id": "62501c0b-0906-4470-a2db-ef388dce180a",
   "metadata": {},
   "outputs": [
    {
     "name": "stdout",
     "output_type": "stream",
     "text": [
      "Train loss: 1.0003650188446045\n",
      "Train accuracy: 0.7399005889892578\n",
      "Test loss: 1.5454500913619995\n",
      "Test accuracy: 0.6201519966125488\n"
     ]
    }
   ],
   "source": [
    "train_score = model.evaluate(X_train, y_train, verbose=0)\n",
    "test_score = model.evaluate(X_test, y_test, verbose=0)\n",
    "print('Train loss:', train_score[0])\n",
    "print('Train accuracy:', train_score[1])\n",
    "print('Test loss:', test_score[0])\n",
    "print('Test accuracy:', test_score[1])"
   ]
  },
  {
   "cell_type": "code",
   "execution_count": 18,
   "id": "8e9d5f81-e2e1-4752-b563-97ff5e6dbfe0",
   "metadata": {},
   "outputs": [
    {
     "data": {
      "image/png": "[encoded data removed]",
      "text/plain": [
       "<Figure size 432x288 with 1 Axes>"
      ]
     },
     "metadata": {
      "needs_background": "light"
     },
     "output_type": "display_data"
    },
    {
     "data": {
      "image/png": "[encoded data removed]",
      "text/plain": [
       "<Figure size 432x288 with 1 Axes>"
      ]
     },
     "metadata": {
      "needs_background": "light"
     },
     "output_type": "display_data"
    }
   ],
   "source": [
    "import matplotlib.pyplot as plt\n",
    "\n",
    "epochs = range(1, len(acc) + 1)\n",
    "\n",
    "plt.plot(epochs, acc, 'bo', label='Training acc')\n",
    "plt.plot(epochs, val_acc, 'b', label='Validation acc')\n",
    "plt.title('Training and validation accuracy')\n",
    "plt.legend()\n",
    "\n",
    "plt.figure()\n",
    "\n",
    "plt.plot(epochs, loss, 'bo', label='Training loss')\n",
    "plt.plot(epochs, val_loss, 'b', label='Validation loss')\n",
    "plt.title('Training and validation loss')\n",
    "plt.legend()\n",
    "\n",
    "plt.show()"
   ]
  },
  {
   "cell_type": "markdown",
   "id": "0aa313dd-102c-4a3e-a7f7-5d2b037ad0d1",
   "metadata": {},
   "source": [
    "What we did with this model was to increase the filter size on the convlutional layers because increasing the filters allows for greater feature extraction, and gives the model more opportunities to learn defining features"
   ]
  },
  {
   "cell_type": "markdown",
   "id": "aad27927-cf57-4563-8e84-599aeeb1013b",
   "metadata": {
    "jp-MarkdownHeadingCollapsed": true,
    "tags": []
   },
   "source": [
    "### Fifth Test"
   ]
  },
  {
   "cell_type": "markdown",
   "id": "dc1eabbe-27c0-4872-b3ac-4db3790fd7dd",
   "metadata": {},
   "source": [
    "Increasing filter size even more"
   ]
  },
  {
   "cell_type": "code",
   "execution_count": 9,
   "id": "bc7dd885-3f49-4494-a26a-d842645c729c",
   "metadata": {},
   "outputs": [
    {
     "name": "stdout",
     "output_type": "stream",
     "text": [
      "Model: \"sequential\"\n",
      "_________________________________________________________________\n",
      "Layer (type)                 Output Shape              Param #   \n",
      "=================================================================\n",
      "conv2d (Conv2D)              (None, 28, 28, 30)        300       \n",
      "_________________________________________________________________\n",
      "conv2d_1 (Conv2D)            (None, 24, 24, 60)        45060     \n",
      "_________________________________________________________________\n",
      "max_pooling2d (MaxPooling2D) (None, 8, 8, 60)          0         \n",
      "_________________________________________________________________\n",
      "conv2d_2 (Conv2D)            (None, 4, 4, 80)          120080    \n",
      "_________________________________________________________________\n",
      "flatten (Flatten)            (None, 1280)              0         \n",
      "_________________________________________________________________\n",
      "dense (Dense)                (None, 800)               1024800   \n",
      "_________________________________________________________________\n",
      "dense_1 (Dense)              (None, 800)               640800    \n",
      "_________________________________________________________________\n",
      "dense_2 (Dense)              (None, 200)               160200    \n",
      "_________________________________________________________________\n",
      "dense_3 (Dense)              (None, 100)               20100     \n",
      "_________________________________________________________________\n",
      "dense_4 (Dense)              (None, 49)                4949      \n",
      "=================================================================\n",
      "Total params: 2,016,289\n",
      "Trainable params: 2,016,289\n",
      "Non-trainable params: 0\n",
      "_________________________________________________________________\n"
     ]
    },
    {
     "name": "stderr",
     "output_type": "stream",
     "text": [
      "2022-10-26 15:07:39.898754: I tensorflow/stream_executor/platform/default/dso_loader.cc:53] Successfully opened dynamic library libcuda.so.1\n",
      "2022-10-26 15:07:39.918621: I tensorflow/core/common_runtime/gpu/gpu_device.cc:1733] Found device 0 with properties: \n",
      "pciBusID: 0000:3d:00.0 name: Quadro RTX 5000 computeCapability: 7.5\n",
      "coreClock: 1.815GHz coreCount: 48 deviceMemorySize: 14.75GiB deviceMemoryBandwidth: 417.29GiB/s\n",
      "2022-10-26 15:07:39.918647: I tensorflow/stream_executor/platform/default/dso_loader.cc:53] Successfully opened dynamic library libcudart.so.11.0\n",
      "2022-10-26 15:07:39.921201: I tensorflow/stream_executor/platform/default/dso_loader.cc:53] Successfully opened dynamic library libcublas.so.11\n",
      "2022-10-26 15:07:39.921260: I tensorflow/stream_executor/platform/default/dso_loader.cc:53] Successfully opened dynamic library libcublasLt.so.11\n",
      "2022-10-26 15:07:39.922190: I tensorflow/stream_executor/platform/default/dso_loader.cc:53] Successfully opened dynamic library libcufft.so.10\n",
      "2022-10-26 15:07:39.922507: I tensorflow/stream_executor/platform/default/dso_loader.cc:53] Successfully opened dynamic library libcurand.so.10\n",
      "2022-10-26 15:07:39.925108: I tensorflow/stream_executor/platform/default/dso_loader.cc:53] Successfully opened dynamic library libcusolver.so.11\n",
      "2022-10-26 15:07:39.925861: I tensorflow/stream_executor/platform/default/dso_loader.cc:53] Successfully opened dynamic library libcusparse.so.11\n",
      "2022-10-26 15:07:39.926049: I tensorflow/stream_executor/platform/default/dso_loader.cc:53] Successfully opened dynamic library libcudnn.so.8\n",
      "2022-10-26 15:07:39.927004: I tensorflow/core/common_runtime/gpu/gpu_device.cc:1871] Adding visible gpu devices: 0\n",
      "2022-10-26 15:07:39.928308: I tensorflow/core/common_runtime/gpu/gpu_device.cc:1733] Found device 0 with properties: \n",
      "pciBusID: 0000:3d:00.0 name: Quadro RTX 5000 computeCapability: 7.5\n",
      "coreClock: 1.815GHz coreCount: 48 deviceMemorySize: 14.75GiB deviceMemoryBandwidth: 417.29GiB/s\n",
      "2022-10-26 15:07:39.929055: I tensorflow/core/common_runtime/gpu/gpu_device.cc:1871] Adding visible gpu devices: 0\n",
      "2022-10-26 15:07:39.929080: I tensorflow/stream_executor/platform/default/dso_loader.cc:53] Successfully opened dynamic library libcudart.so.11.0\n",
      "2022-10-26 15:07:40.359122: I tensorflow/core/common_runtime/gpu/gpu_device.cc:1258] Device interconnect StreamExecutor with strength 1 edge matrix:\n",
      "2022-10-26 15:07:40.359146: I tensorflow/core/common_runtime/gpu/gpu_device.cc:1264]      0 \n",
      "2022-10-26 15:07:40.359151: I tensorflow/core/common_runtime/gpu/gpu_device.cc:1277] 0:   N \n",
      "2022-10-26 15:07:40.360448: W tensorflow/core/common_runtime/gpu/gpu_bfc_allocator.cc:39] Overriding allow_growth setting because the TF_FORCE_GPU_ALLOW_GROWTH environment variable is set. Original config value was 0.\n",
      "2022-10-26 15:07:40.360475: I tensorflow/core/common_runtime/gpu/gpu_device.cc:1418] Created TensorFlow device (/job:localhost/replica:0/task:0/device:GPU:0 with 13005 MB memory) -> physical GPU (device: 0, name: Quadro RTX 5000, pci bus id: 0000:3d:00.0, compute capability: 7.5)\n"
     ]
    }
   ],
   "source": [
    "batch_size = 50\n",
    "num_classes = 49\n",
    "epochs = 20\n",
    "\n",
    "y_train = keras.utils.to_categorical(y_train, num_classes)\n",
    "y_test = keras.utils.to_categorical(y_test, num_classes)\n",
    "\n",
    "model = keras.Sequential()\n",
    "model.add(layers.Conv2D(filters=30, kernel_size=(3,3),\n",
    "                        padding=\"same\", activation='relu',\n",
    "                        input_shape=input_size))\n",
    "model.add(layers.Conv2D(filters=60, kernel_size=(5,5), activation='relu',\n",
    "                        input_shape=(28,28,3)))\n",
    "model.add(layers.MaxPooling2D(pool_size=(3,3)))\n",
    "model.add(layers.Conv2D(filters=80, kernel_size=(5,5), activation='relu',\n",
    "                        input_shape=(8,8,1)))\n",
    "model.add(layers.Flatten())\n",
    "model.add(layers.Dense(800, activation='relu'))\n",
    "model.add(layers.Dense(800, activation='relu'))\n",
    "model.add(layers.Dense(200, activation='relu'))\n",
    "model.add(layers.Dense(100, activation='relu'))\n",
    "model.add(layers.Dense(49, activation='softmax'))\n",
    "model.summary()"
   ]
  },
  {
   "cell_type": "code",
   "execution_count": 13,
   "id": "611118f5-bc35-4fa5-bbd1-e959005166de",
   "metadata": {},
   "outputs": [
    {
     "name": "stdout",
     "output_type": "stream",
     "text": [
      "Train loss: 0.9914772510528564\n",
      "Train accuracy: 0.745026171207428\n",
      "Test loss: 1.5269904136657715\n",
      "Test accuracy: 0.6261447072029114\n"
     ]
    }
   ],
   "source": [
    "train_score = model.evaluate(X_train, y_train, verbose=0)\n",
    "test_score = model.evaluate(X_test, y_test, verbose=0)\n",
    "print('Train loss:', train_score[0])\n",
    "print('Train accuracy:', train_score[1])\n",
    "print('Test loss:', test_score[0])\n",
    "print('Test accuracy:', test_score[1])"
   ]
  },
  {
   "cell_type": "code",
   "execution_count": 15,
   "id": "551f6e7b-f217-4d69-86e3-075b309e04a9",
   "metadata": {},
   "outputs": [
    {
     "data": {
      "image/png": "[encoded data removed]",
      "text/plain": [
       "<Figure size 432x288 with 1 Axes>"
      ]
     },
     "metadata": {
      "needs_background": "light"
     },
     "output_type": "display_data"
    },
    {
     "data": {
      "image/png": "[encoded data removed]",
      "text/plain": [
       "<Figure size 432x288 with 1 Axes>"
      ]
     },
     "metadata": {
      "needs_background": "light"
     },
     "output_type": "display_data"
    }
   ],
   "source": [
    "import matplotlib.pyplot as plt\n",
    "\n",
    "epochs = range(1, len(acc) + 1)\n",
    "\n",
    "plt.plot(epochs, acc, 'bo', label='Training acc')\n",
    "plt.plot(epochs, val_acc, 'b', label='Validation acc')\n",
    "plt.title('Training and validation accuracy')\n",
    "plt.legend()\n",
    "\n",
    "plt.figure()\n",
    "\n",
    "plt.plot(epochs, loss, 'bo', label='Training loss')\n",
    "plt.plot(epochs, val_loss, 'b', label='Validation loss')\n",
    "plt.title('Training and validation loss')\n",
    "plt.legend()\n",
    "\n",
    "plt.show()"
   ]
  },
  {
   "cell_type": "markdown",
   "id": "4a124d94-1a91-40e1-98fa-9d9e7574ea12",
   "metadata": {},
   "source": [
    "Will increase epochs next because there is no plateu on the loss yet meaning there is more training available."
   ]
  },
  {
   "cell_type": "markdown",
   "id": "c06138f6-8c34-4534-9835-8afc19bab165",
   "metadata": {
    "jp-MarkdownHeadingCollapsed": true,
    "tags": []
   },
   "source": [
    "### Sixth Test"
   ]
  },
  {
   "cell_type": "code",
   "execution_count": null,
   "id": "d909e178-c76d-4e37-82eb-f752c4773d0c",
   "metadata": {},
   "outputs": [],
   "source": []
  },
  {
   "cell_type": "code",
   "execution_count": 9,
   "id": "8bbb86a9-fe3c-429e-8764-3cd774382e81",
   "metadata": {},
   "outputs": [
    {
     "name": "stdout",
     "output_type": "stream",
     "text": [
      "Model: \"sequential\"\n",
      "_________________________________________________________________\n",
      "Layer (type)                 Output Shape              Param #   \n",
      "=================================================================\n",
      "conv2d (Conv2D)              (None, 28, 28, 30)        300       \n",
      "_________________________________________________________________\n",
      "conv2d_1 (Conv2D)            (None, 24, 24, 60)        45060     \n",
      "_________________________________________________________________\n",
      "max_pooling2d (MaxPooling2D) (None, 8, 8, 60)          0         \n",
      "_________________________________________________________________\n",
      "conv2d_2 (Conv2D)            (None, 4, 4, 80)          120080    \n",
      "_________________________________________________________________\n",
      "flatten (Flatten)            (None, 1280)              0         \n",
      "_________________________________________________________________\n",
      "dense (Dense)                (None, 800)               1024800   \n",
      "_________________________________________________________________\n",
      "dense_1 (Dense)              (None, 800)               640800    \n",
      "_________________________________________________________________\n",
      "dense_2 (Dense)              (None, 200)               160200    \n",
      "_________________________________________________________________\n",
      "dense_3 (Dense)              (None, 100)               20100     \n",
      "_________________________________________________________________\n",
      "dense_4 (Dense)              (None, 49)                4949      \n",
      "=================================================================\n",
      "Total params: 2,016,289\n",
      "Trainable params: 2,016,289\n",
      "Non-trainable params: 0\n",
      "_________________________________________________________________\n"
     ]
    },
    {
     "name": "stderr",
     "output_type": "stream",
     "text": [
      "2022-10-26 15:15:39.139855: I tensorflow/stream_executor/platform/default/dso_loader.cc:53] Successfully opened dynamic library libcuda.so.1\n",
      "2022-10-26 15:15:39.159209: I tensorflow/core/common_runtime/gpu/gpu_device.cc:1733] Found device 0 with properties: \n",
      "pciBusID: 0000:3d:00.0 name: Quadro RTX 5000 computeCapability: 7.5\n",
      "coreClock: 1.815GHz coreCount: 48 deviceMemorySize: 14.75GiB deviceMemoryBandwidth: 417.29GiB/s\n",
      "2022-10-26 15:15:39.159234: I tensorflow/stream_executor/platform/default/dso_loader.cc:53] Successfully opened dynamic library libcudart.so.11.0\n",
      "2022-10-26 15:15:39.162122: I tensorflow/stream_executor/platform/default/dso_loader.cc:53] Successfully opened dynamic library libcublas.so.11\n",
      "2022-10-26 15:15:39.162183: I tensorflow/stream_executor/platform/default/dso_loader.cc:53] Successfully opened dynamic library libcublasLt.so.11\n",
      "2022-10-26 15:15:39.163420: I tensorflow/stream_executor/platform/default/dso_loader.cc:53] Successfully opened dynamic library libcufft.so.10\n",
      "2022-10-26 15:15:39.163964: I tensorflow/stream_executor/platform/default/dso_loader.cc:53] Successfully opened dynamic library libcurand.so.10\n",
      "2022-10-26 15:15:39.166616: I tensorflow/stream_executor/platform/default/dso_loader.cc:53] Successfully opened dynamic library libcusolver.so.11\n",
      "2022-10-26 15:15:39.167595: I tensorflow/stream_executor/platform/default/dso_loader.cc:53] Successfully opened dynamic library libcusparse.so.11\n",
      "2022-10-26 15:15:39.167868: I tensorflow/stream_executor/platform/default/dso_loader.cc:53] Successfully opened dynamic library libcudnn.so.8\n",
      "2022-10-26 15:15:39.168649: I tensorflow/core/common_runtime/gpu/gpu_device.cc:1871] Adding visible gpu devices: 0\n",
      "2022-10-26 15:15:39.169896: I tensorflow/core/common_runtime/gpu/gpu_device.cc:1733] Found device 0 with properties: \n",
      "pciBusID: 0000:3d:00.0 name: Quadro RTX 5000 computeCapability: 7.5\n",
      "coreClock: 1.815GHz coreCount: 48 deviceMemorySize: 14.75GiB deviceMemoryBandwidth: 417.29GiB/s\n",
      "2022-10-26 15:15:39.170602: I tensorflow/core/common_runtime/gpu/gpu_device.cc:1871] Adding visible gpu devices: 0\n",
      "2022-10-26 15:15:39.170627: I tensorflow/stream_executor/platform/default/dso_loader.cc:53] Successfully opened dynamic library libcudart.so.11.0\n",
      "2022-10-26 15:15:39.596644: I tensorflow/core/common_runtime/gpu/gpu_device.cc:1258] Device interconnect StreamExecutor with strength 1 edge matrix:\n",
      "2022-10-26 15:15:39.596666: I tensorflow/core/common_runtime/gpu/gpu_device.cc:1264]      0 \n",
      "2022-10-26 15:15:39.596670: I tensorflow/core/common_runtime/gpu/gpu_device.cc:1277] 0:   N \n",
      "2022-10-26 15:15:39.597897: W tensorflow/core/common_runtime/gpu/gpu_bfc_allocator.cc:39] Overriding allow_growth setting because the TF_FORCE_GPU_ALLOW_GROWTH environment variable is set. Original config value was 0.\n",
      "2022-10-26 15:15:39.597923: I tensorflow/core/common_runtime/gpu/gpu_device.cc:1418] Created TensorFlow device (/job:localhost/replica:0/task:0/device:GPU:0 with 13005 MB memory) -> physical GPU (device: 0, name: Quadro RTX 5000, pci bus id: 0000:3d:00.0, compute capability: 7.5)\n"
     ]
    }
   ],
   "source": [
    "batch_size = 50\n",
    "num_classes = 49\n",
    "epochs = 30\n",
    "\n",
    "y_train = keras.utils.to_categorical(y_train, num_classes)\n",
    "y_test = keras.utils.to_categorical(y_test, num_classes)\n",
    "\n",
    "model = keras.Sequential()\n",
    "model.add(layers.Conv2D(filters=30, kernel_size=(3,3),\n",
    "                        padding=\"same\", activation='relu',\n",
    "                        input_shape=input_size))\n",
    "model.add(layers.Conv2D(filters=60, kernel_size=(5,5), activation='relu',\n",
    "                        input_shape=(28,28,3)))\n",
    "model.add(layers.MaxPooling2D(pool_size=(3,3)))\n",
    "model.add(layers.Conv2D(filters=80, kernel_size=(5,5), activation='relu',\n",
    "                        input_shape=(8,8,1)))\n",
    "model.add(layers.Flatten())\n",
    "model.add(layers.Dense(800, activation='relu'))\n",
    "model.add(layers.Dense(800, activation='relu'))\n",
    "model.add(layers.Dense(200, activation='relu'))\n",
    "model.add(layers.Dense(100, activation='relu'))\n",
    "model.add(layers.Dense(49, activation='softmax'))\n",
    "model.summary()"
   ]
  },
  {
   "cell_type": "code",
   "execution_count": 13,
   "id": "73385c9b-8e3c-4e54-90f4-941eb4006dbb",
   "metadata": {},
   "outputs": [
    {
     "name": "stdout",
     "output_type": "stream",
     "text": [
      "Train loss: 0.7609336972236633\n",
      "Train accuracy: 0.8014588952064514\n",
      "Test loss: 1.2596797943115234\n",
      "Test accuracy: 0.6860715746879578\n"
     ]
    }
   ],
   "source": [
    "train_score = model.evaluate(X_train, y_train, verbose=0)\n",
    "test_score = model.evaluate(X_test, y_test, verbose=0)\n",
    "print('Train loss:', train_score[0])\n",
    "print('Train accuracy:', train_score[1])\n",
    "print('Test loss:', test_score[0])\n",
    "print('Test accuracy:', test_score[1])"
   ]
  },
  {
   "cell_type": "code",
   "execution_count": 15,
   "id": "16345a9a-7775-451e-af3e-7be585a1a4bc",
   "metadata": {},
   "outputs": [
    {
     "data": {
      "image/png": "[encoded data removed]",
      "text/plain": [
       "<Figure size 432x288 with 1 Axes>"
      ]
     },
     "metadata": {
      "needs_background": "light"
     },
     "output_type": "display_data"
    },
    {
     "data": {
      "image/png": "[encoded data removed]",
      "text/plain": [
       "<Figure size 432x288 with 1 Axes>"
      ]
     },
     "metadata": {
      "needs_background": "light"
     },
     "output_type": "display_data"
    }
   ],
   "source": [
    "import matplotlib.pyplot as plt\n",
    "\n",
    "epochs = range(1, len(acc) + 1)\n",
    "\n",
    "plt.plot(epochs, acc, 'bo', label='Training acc')\n",
    "plt.plot(epochs, val_acc, 'b', label='Validation acc')\n",
    "plt.title('Training and validation accuracy')\n",
    "plt.legend()\n",
    "\n",
    "plt.figure()\n",
    "\n",
    "plt.plot(epochs, loss, 'bo', label='Training loss')\n",
    "plt.plot(epochs, val_loss, 'b', label='Validation loss')\n",
    "plt.title('Training and validation loss')\n",
    "plt.legend()\n",
    "\n",
    "plt.show()"
   ]
  },
  {
   "cell_type": "markdown",
   "id": "48b46bab-556c-4c0c-b8fb-7dc98fd1f173",
   "metadata": {
    "jp-MarkdownHeadingCollapsed": true,
    "tags": []
   },
   "source": [
    "### Seventh Test"
   ]
  },
  {
   "cell_type": "code",
   "execution_count": 9,
   "id": "02ef0481-a554-4cfe-8fec-ca5e5d9c4f4d",
   "metadata": {},
   "outputs": [
    {
     "name": "stdout",
     "output_type": "stream",
     "text": [
      "Model: \"sequential\"\n",
      "_________________________________________________________________\n",
      "Layer (type)                 Output Shape              Param #   \n",
      "=================================================================\n",
      "conv2d (Conv2D)              (None, 28, 28, 30)        300       \n",
      "_________________________________________________________________\n",
      "conv2d_1 (Conv2D)            (None, 24, 24, 60)        45060     \n",
      "_________________________________________________________________\n",
      "max_pooling2d (MaxPooling2D) (None, 8, 8, 60)          0         \n",
      "_________________________________________________________________\n",
      "conv2d_2 (Conv2D)            (None, 4, 4, 80)          120080    \n",
      "_________________________________________________________________\n",
      "flatten (Flatten)            (None, 1280)              0         \n",
      "_________________________________________________________________\n",
      "dense (Dense)                (None, 800)               1024800   \n",
      "_________________________________________________________________\n",
      "dense_1 (Dense)              (None, 800)               640800    \n",
      "_________________________________________________________________\n",
      "dense_2 (Dense)              (None, 200)               160200    \n",
      "_________________________________________________________________\n",
      "dense_3 (Dense)              (None, 100)               20100     \n",
      "_________________________________________________________________\n",
      "dense_4 (Dense)              (None, 49)                4949      \n",
      "=================================================================\n",
      "Total params: 2,016,289\n",
      "Trainable params: 2,016,289\n",
      "Non-trainable params: 0\n",
      "_________________________________________________________________\n"
     ]
    },
    {
     "name": "stderr",
     "output_type": "stream",
     "text": [
      "2022-10-26 15:25:58.336919: I tensorflow/stream_executor/platform/default/dso_loader.cc:53] Successfully opened dynamic library libcuda.so.1\n",
      "2022-10-26 15:25:58.356499: I tensorflow/core/common_runtime/gpu/gpu_device.cc:1733] Found device 0 with properties: \n",
      "pciBusID: 0000:3d:00.0 name: Quadro RTX 5000 computeCapability: 7.5\n",
      "coreClock: 1.815GHz coreCount: 48 deviceMemorySize: 14.75GiB deviceMemoryBandwidth: 417.29GiB/s\n",
      "2022-10-26 15:25:58.356523: I tensorflow/stream_executor/platform/default/dso_loader.cc:53] Successfully opened dynamic library libcudart.so.11.0\n",
      "2022-10-26 15:25:58.359224: I tensorflow/stream_executor/platform/default/dso_loader.cc:53] Successfully opened dynamic library libcublas.so.11\n",
      "2022-10-26 15:25:58.359278: I tensorflow/stream_executor/platform/default/dso_loader.cc:53] Successfully opened dynamic library libcublasLt.so.11\n",
      "2022-10-26 15:25:58.360348: I tensorflow/stream_executor/platform/default/dso_loader.cc:53] Successfully opened dynamic library libcufft.so.10\n",
      "2022-10-26 15:25:58.360782: I tensorflow/stream_executor/platform/default/dso_loader.cc:53] Successfully opened dynamic library libcurand.so.10\n",
      "2022-10-26 15:25:58.363475: I tensorflow/stream_executor/platform/default/dso_loader.cc:53] Successfully opened dynamic library libcusolver.so.11\n",
      "2022-10-26 15:25:58.364393: I tensorflow/stream_executor/platform/default/dso_loader.cc:53] Successfully opened dynamic library libcusparse.so.11\n",
      "2022-10-26 15:25:58.364678: I tensorflow/stream_executor/platform/default/dso_loader.cc:53] Successfully opened dynamic library libcudnn.so.8\n",
      "2022-10-26 15:25:58.365473: I tensorflow/core/common_runtime/gpu/gpu_device.cc:1871] Adding visible gpu devices: 0\n",
      "2022-10-26 15:25:58.366843: I tensorflow/core/common_runtime/gpu/gpu_device.cc:1733] Found device 0 with properties: \n",
      "pciBusID: 0000:3d:00.0 name: Quadro RTX 5000 computeCapability: 7.5\n",
      "coreClock: 1.815GHz coreCount: 48 deviceMemorySize: 14.75GiB deviceMemoryBandwidth: 417.29GiB/s\n",
      "2022-10-26 15:25:58.367558: I tensorflow/core/common_runtime/gpu/gpu_device.cc:1871] Adding visible gpu devices: 0\n",
      "2022-10-26 15:25:58.367583: I tensorflow/stream_executor/platform/default/dso_loader.cc:53] Successfully opened dynamic library libcudart.so.11.0\n",
      "2022-10-26 15:25:58.788879: I tensorflow/core/common_runtime/gpu/gpu_device.cc:1258] Device interconnect StreamExecutor with strength 1 edge matrix:\n",
      "2022-10-26 15:25:58.788911: I tensorflow/core/common_runtime/gpu/gpu_device.cc:1264]      0 \n",
      "2022-10-26 15:25:58.788915: I tensorflow/core/common_runtime/gpu/gpu_device.cc:1277] 0:   N \n",
      "2022-10-26 15:25:58.790172: W tensorflow/core/common_runtime/gpu/gpu_bfc_allocator.cc:39] Overriding allow_growth setting because the TF_FORCE_GPU_ALLOW_GROWTH environment variable is set. Original config value was 0.\n",
      "2022-10-26 15:25:58.790204: I tensorflow/core/common_runtime/gpu/gpu_device.cc:1418] Created TensorFlow device (/job:localhost/replica:0/task:0/device:GPU:0 with 13005 MB memory) -> physical GPU (device: 0, name: Quadro RTX 5000, pci bus id: 0000:3d:00.0, compute capability: 7.5)\n"
     ]
    }
   ],
   "source": [
    "batch_size = 25\n",
    "num_classes = 49\n",
    "epochs = 30\n",
    "\n",
    "y_train = keras.utils.to_categorical(y_train, num_classes)\n",
    "y_test = keras.utils.to_categorical(y_test, num_classes)\n",
    "\n",
    "model = keras.Sequential()\n",
    "model.add(layers.Conv2D(filters=30, kernel_size=(3,3),\n",
    "                        padding=\"same\", activation='relu',\n",
    "                        input_shape=input_size))\n",
    "model.add(layers.Conv2D(filters=60, kernel_size=(5,5), activation='relu',\n",
    "                        input_shape=(28,28,3)))\n",
    "model.add(layers.MaxPooling2D(pool_size=(3,3)))\n",
    "model.add(layers.Conv2D(filters=80, kernel_size=(5,5), activation='relu',\n",
    "                        input_shape=(8,8,1)))\n",
    "model.add(layers.Flatten())\n",
    "model.add(layers.Dense(800, activation='relu'))\n",
    "model.add(layers.Dense(800, activation='relu'))\n",
    "model.add(layers.Dense(200, activation='relu'))\n",
    "model.add(layers.Dense(100, activation='relu'))\n",
    "model.add(layers.Dense(49, activation='softmax'))\n",
    "model.summary()"
   ]
  },
  {
   "cell_type": "code",
   "execution_count": 13,
   "id": "eb5213e5-0e5f-4006-960b-b0e2bd78bdba",
   "metadata": {},
   "outputs": [
    {
     "name": "stdout",
     "output_type": "stream",
     "text": [
      "Train loss: 0.6610288619995117\n",
      "Train accuracy: 0.826522946357727\n",
      "Test loss: 1.1390125751495361\n",
      "Test accuracy: 0.7163981795310974\n"
     ]
    }
   ],
   "source": [
    "train_score = model.evaluate(X_train, y_train, verbose=0)\n",
    "test_score = model.evaluate(X_test, y_test, verbose=0)\n",
    "print('Train loss:', train_score[0])\n",
    "print('Train accuracy:', train_score[1])\n",
    "print('Test loss:', test_score[0])\n",
    "print('Test accuracy:', test_score[1])"
   ]
  },
  {
   "cell_type": "code",
   "execution_count": 15,
   "id": "94cc7570-8522-4483-aad1-796b8969bd14",
   "metadata": {},
   "outputs": [
    {
     "data": {
      "image/png": "[encoded data removed]",
      "text/plain": [
       "<Figure size 432x288 with 1 Axes>"
      ]
     },
     "metadata": {
      "needs_background": "light"
     },
     "output_type": "display_data"
    },
    {
     "data": {
      "image/png": "[encoded data removed]",
      "text/plain": [
       "<Figure size 432x288 with 1 Axes>"
      ]
     },
     "metadata": {
      "needs_background": "light"
     },
     "output_type": "display_data"
    }
   ],
   "source": [
    "epochs = range(1, len(acc) + 1)\n",
    "\n",
    "plt.plot(epochs, acc, 'bo', label='Training acc')\n",
    "plt.plot(epochs, val_acc, 'b', label='Validation acc')\n",
    "plt.title('Training and validation accuracy')\n",
    "plt.legend()\n",
    "\n",
    "plt.figure()\n",
    "\n",
    "plt.plot(epochs, loss, 'bo', label='Training loss')\n",
    "plt.plot(epochs, val_loss, 'b', label='Validation loss')\n",
    "plt.title('Training and validation loss')\n",
    "plt.legend()\n",
    "\n",
    "plt.show()"
   ]
  },
  {
   "cell_type": "markdown",
   "id": "de5362a3-45ab-4aaf-b89c-9dc578308f67",
   "metadata": {},
   "source": [
    "Nothing seems to be doing much to increase the accuracy so going to change the model next"
   ]
  },
  {
   "cell_type": "markdown",
   "id": "1ec93525-d8fb-4ce1-865c-a7a236430458",
   "metadata": {
    "jp-MarkdownHeadingCollapsed": true,
    "tags": []
   },
   "source": [
    "## Final Tests"
   ]
  },
  {
   "cell_type": "markdown",
   "id": "218b5e5a-8bac-4fd6-9cbd-02ee4bd74f06",
   "metadata": {},
   "source": [
    "**Architecture**"
   ]
  },
  {
   "cell_type": "code",
   "execution_count": 3,
   "id": "1b8d7073-97eb-4f4a-8f89-1c0e90a54b48",
   "metadata": {},
   "outputs": [
    {
     "name": "stdout",
     "output_type": "stream",
     "text": [
      "Model: \"sequential\"\n",
      "_________________________________________________________________\n",
      "Layer (type)                 Output Shape              Param #   \n",
      "=================================================================\n",
      "conv2d (Conv2D)              (None, 28, 28, 120)       1200      \n",
      "_________________________________________________________________\n",
      "max_pooling2d (MaxPooling2D) (None, 9, 9, 120)         0         \n",
      "_________________________________________________________________\n",
      "conv2d_1 (Conv2D)            (None, 9, 9, 120)         129720    \n",
      "_________________________________________________________________\n",
      "flatten (Flatten)            (None, 9720)              0         \n",
      "_________________________________________________________________\n",
      "dense (Dense)                (None, 100)               972100    \n",
      "_________________________________________________________________\n",
      "dense_1 (Dense)              (None, 100)               10100     \n",
      "_________________________________________________________________\n",
      "dense_2 (Dense)              (None, 49)                4949      \n",
      "=================================================================\n",
      "Total params: 1,118,069\n",
      "Trainable params: 1,118,069\n",
      "Non-trainable params: 0\n",
      "_________________________________________________________________\n"
     ]
    }
   ],
   "source": [
    "num_classes = 49\n",
    "\n",
    "y_train = keras.utils.to_categorical(y_train, num_classes)\n",
    "y_test = keras.utils.to_categorical(y_test, num_classes)\n",
    "\n",
    "model1 = keras.Sequential()\n",
    "model1.add(layers.Conv2D(filters=120, kernel_size=(3,3),\n",
    "                        padding=\"same\", activation='relu',\n",
    "                        input_shape=input_shape))\n",
    "model1.add(layers.MaxPooling2D(pool_size=(3, 3)))\n",
    "model1.add(layers.Conv2D(filters=120, kernel_size=(3,3),\n",
    "                        padding=\"same\", activation='relu',\n",
    "                        input_shape=input_shape))\n",
    "model1.add(layers.Flatten())\n",
    "model1.add(layers.Dense(100, activation='relu'))\n",
    "model1.add(layers.Dense(100, activation='relu'))\n",
    "model1.add(layers.Dense(49, activation='softmax'))\n",
    "model1.compile(loss=keras.losses.categorical_crossentropy,\n",
    "              optimizer=keras.optimizers.Adadelta(),\n",
    "              metrics=['accuracy'])\n",
    "history = History()\n",
    "model1.summary()"
   ]
  },
  {
   "cell_type": "markdown",
   "id": "482fd5c1-6fb6-4723-b6c2-42ee53096d2a",
   "metadata": {},
   "source": [
    "Decided on this architecture because wanted to increase the filters immensely. Decided that feature extraction is more important, so created to convulational layers with large filter size. We add a MaxPooling layer in between the two convolutional layers. The reason for this is to reduce the features that are going into the second convolutional layer. We wanted to get better feature detection before the dense layers which will act as feature detectors."
   ]
  },
  {
   "cell_type": "markdown",
   "id": "2d903fa3-09dc-4f96-ab66-3aba828d3ddd",
   "metadata": {
    "tags": []
   },
   "source": [
    "### 20 Epoch Test"
   ]
  },
  {
   "cell_type": "code",
   "execution_count": 7,
   "id": "ebc87b73-4f5a-4bdf-8ee4-9624f61a2a62",
   "metadata": {},
   "outputs": [
    {
     "name": "stdout",
     "output_type": "stream",
     "text": [
      "Train loss: 0.7051686644554138\n",
      "Train accuracy: 0.8240354657173157\n",
      "Test loss: 1.318656325340271\n",
      "Test accuracy: 0.698887050151825\n"
     ]
    }
   ],
   "source": [
    "print('Train loss:', train_score[0])\n",
    "print('Train accuracy:', train_score[1])\n",
    "print('Test loss:', test_score[0])\n",
    "print('Test accuracy:', test_score[1])"
   ]
  },
  {
   "cell_type": "markdown",
   "id": "7803f588-b9fc-4ff2-96ab-6c64d9267e99",
   "metadata": {},
   "source": [
    "The model did much better than other attempts of the more dense networks as previous"
   ]
  },
  {
   "cell_type": "markdown",
   "id": "7c649b78-fbaa-49c9-9070-f399360d9053",
   "metadata": {},
   "source": [
    "Noticed this model was doing well with less epochs so wanted to try increasing epochs by a large amount."
   ]
  },
  {
   "cell_type": "markdown",
   "id": "d06996d2-daa1-406b-886e-c81262efd973",
   "metadata": {
    "tags": []
   },
   "source": [
    "### 100 Epoch Test"
   ]
  },
  {
   "cell_type": "code",
   "execution_count": 8,
   "id": "3debcd18-e53c-4f31-bd3e-903b32624831",
   "metadata": {},
   "outputs": [
    {
     "name": "stdout",
     "output_type": "stream",
     "text": [
      "Train loss: 0.2100168615579605\n",
      "Train accuracy: 0.9471564292907715\n",
      "Test loss: 0.6492080092430115\n",
      "Test accuracy: 0.8487301468849182\n"
     ]
    }
   ],
   "source": [
    "#100 epoch result\n",
    "print('Train loss:', train_score[0])\n",
    "print('Train accuracy:', train_score[1])\n",
    "print('Test loss:', test_score[0])\n",
    "print('Test accuracy:', test_score[1])"
   ]
  },
  {
   "cell_type": "markdown",
   "id": "bdd69912-2f32-4865-9a44-1c147b509714",
   "metadata": {},
   "source": [
    "100 epochs performed much better than the previous 20 epoch attempt. However, there is some overfitting occurring. Future tests could include experimentation with dropout layers in order to generalize the model."
   ]
  },
  {
   "cell_type": "code",
   "execution_count": null,
   "id": "ca93abe1-a5a2-4a75-9a28-f37a0fce68be",
   "metadata": {},
   "outputs": [],
   "source": []
  },
  {
   "cell_type": "code",
   "execution_count": null,
   "id": "703029b2-6ddc-4146-bed2-662bf6b020bf",
   "metadata": {},
   "outputs": [],
   "source": []
  },
  {
   "cell_type": "markdown",
   "id": "5d04fe3e-1aa7-4b06-b0c5-41726d7855e1",
   "metadata": {
    "jp-MarkdownHeadingCollapsed": true,
    "tags": []
   },
   "source": [
    "# Conclusions"
   ]
  },
  {
   "cell_type": "markdown",
   "id": "8eb79d2e-7ce4-4d47-a7cf-36a2a84e67a4",
   "metadata": {},
   "source": [
    "We found that two convolutional layers with max pooling layer between them a dense layer before the output layer was the best setup for our neural network. The model finished at an accuracy of 85%. We did numerous test to reach the optimal training."
   ]
  },
  {
   "cell_type": "code",
   "execution_count": null,
   "id": "a5208d7c-07b2-48ce-97d6-25a468762058",
   "metadata": {},
   "outputs": [],
   "source": []
  }
 ],
 "metadata": {
  "kernelspec": {
   "display_name": "TensorFlow +GPU",
   "language": "python",
   "name": "python3-tensorflow-gpu"
  },
  "language_info": {
   "codemirror_mode": {
    "name": "ipython",
    "version": 3
   },
   "file_extension": ".py",
   "mimetype": "text/x-python",
   "name": "python",
   "nbconvert_exporter": "python",
   "pygments_lexer": "ipython3",
   "version": "3.8.6"
  }
 },
 "nbformat": 4,
 "nbformat_minor": 5
}
